{
 "cells": [
  {
   "cell_type": "code",
   "execution_count": 4,
   "id": "2a1b9539",
   "metadata": {},
   "outputs": [],
   "source": [
    "students = [\n",
    " {\n",
    " \"name\":\"rakesh1\",\n",
    " \"age\":\"12\",\n",
    " \"academics\":{\n",
    " \"sslc\":\"40\",\n",
    " \"hsc\":\"70\"\n",
    " }\n",
    " },\n",
    " {\n",
    " \"name\":\"rakesh2\",\n",
    " \"age\":\"12\",\n",
    " \"academics\":{\n",
    " \"sslc\":\"60\",\n",
    " \"hsc\":\"70\"\n",
    " }\n",
    " },\n",
    " {\n",
    " \"name\":\"rakesh3\",\n",
    " \"age\":\"12\",\n",
    " \"academics\":{\n",
    " \"sslc\":\"40\",\n",
    " \"hsc\":\"90\"\n",
    " }\n",
    " },\n",
    " {\n",
    " \"name\":\"rakesh4\",\n",
    " \"age\":\"12\",\n",
    " \"academics\":{\n",
    " \"sslc\":\"80\",\n",
    " \"hsc\":\"70\"\n",
    " }\n",
    " },\n",
    " {\n",
    " \"name\":\"rakesh5\",\n",
    " \"age\":\"12\",\n",
    " \"academics\":{\n",
    " \"sslc\":\"59\",\n",
    " \"hsc\":\"20\"\n",
    " }\n",
    " },\n",
    " {\n",
    " \"name\":\"rakesh6\",\n",
    " \"age\":\"12\",\n",
    " \"academics\":{\n",
    " \"sslc\":\"100\",\n",
    " \"hsc\":\"70\"\n",
    " }\n",
    " }\n",
    "]"
   ]
  },
  {
   "cell_type": "code",
   "execution_count": 5,
   "id": "e342e500",
   "metadata": {},
   "outputs": [
    {
     "data": {
      "text/plain": [
       "[{'name': 'rakesh1', 'age': '12', 'academics': {'sslc': '40', 'hsc': '70'}},\n",
       " {'name': 'rakesh2', 'age': '12', 'academics': {'sslc': '60', 'hsc': '70'}},\n",
       " {'name': 'rakesh3', 'age': '12', 'academics': {'sslc': '40', 'hsc': '90'}},\n",
       " {'name': 'rakesh4', 'age': '12', 'academics': {'sslc': '80', 'hsc': '70'}},\n",
       " {'name': 'rakesh5', 'age': '12', 'academics': {'sslc': '59', 'hsc': '20'}},\n",
       " {'name': 'rakesh6', 'age': '12', 'academics': {'sslc': '100', 'hsc': '70'}}]"
      ]
     },
     "execution_count": 5,
     "metadata": {},
     "output_type": "execute_result"
    }
   ],
   "source": [
    "students"
   ]
  },
  {
   "cell_type": "markdown",
   "id": "71ace8d3",
   "metadata": {},
   "source": [
    "# 1.both mark should be more than 60 average should be 60"
   ]
  },
  {
   "cell_type": "code",
   "execution_count": 14,
   "id": "a4aaefaf",
   "metadata": {},
   "outputs": [
    {
     "data": {
      "text/plain": [
       "[{'name': 'rakesh2', 'age': '12', 'academics': {'sslc': '60', 'hsc': '70'}},\n",
       " {'name': 'rakesh4', 'age': '12', 'academics': {'sslc': '80', 'hsc': '70'}},\n",
       " {'name': 'rakesh6', 'age': '12', 'academics': {'sslc': '100', 'hsc': '70'}}]"
      ]
     },
     "execution_count": 14,
     "metadata": {},
     "output_type": "execute_result"
    }
   ],
   "source": [
    "result = list(filter(lambda x:int(x[\"academics\"][\"sslc\"])>=60 and int(x[\"academics\"][\"hsc\"])>=60,list(filter(lambda x:(int(x[\"academics\"][\"sslc\"])+int(x[\"academics\"][\"hsc\"]))//2>=60,students))))\n",
    "\n",
    "result"
   ]
  },
  {
   "cell_type": "markdown",
   "id": "84cf9162",
   "metadata": {},
   "source": [
    "# 2.Should double and display age who got more than 60 as average"
   ]
  },
  {
   "cell_type": "code",
   "execution_count": 17,
   "id": "5e50a6ae",
   "metadata": {},
   "outputs": [
    {
     "data": {
      "text/plain": [
       "[24, 24, 24, 24]"
      ]
     },
     "execution_count": 17,
     "metadata": {},
     "output_type": "execute_result"
    }
   ],
   "source": [
    "result = list(filter(lambda x:(int(x[\"academics\"][\"sslc\"])+int(x[\"academics\"][\"hsc\"]))//2>=60,students))\n",
    "\n",
    "result = [ int(i[\"age\"])*2 for i in result]\n",
    "\n",
    "result"
   ]
  },
  {
   "cell_type": "markdown",
   "id": "8dc52b9d",
   "metadata": {},
   "source": [
    "# 3.Total the sslc mark and display who got more than 60 as avereage"
   ]
  },
  {
   "cell_type": "code",
   "execution_count": 18,
   "id": "e3151250",
   "metadata": {},
   "outputs": [
    {
     "data": {
      "text/plain": [
       "[{'name': 'rakesh2', 'age': '12', 'academics': {'sslc': '60', 'hsc': '70'}},\n",
       " {'name': 'rakesh3', 'age': '12', 'academics': {'sslc': '40', 'hsc': '90'}},\n",
       " {'name': 'rakesh4', 'age': '12', 'academics': {'sslc': '80', 'hsc': '70'}},\n",
       " {'name': 'rakesh6', 'age': '12', 'academics': {'sslc': '100', 'hsc': '70'}}]"
      ]
     },
     "execution_count": 18,
     "metadata": {},
     "output_type": "execute_result"
    }
   ],
   "source": [
    "result = list(filter(lambda x:(int(x[\"academics\"][\"sslc\"])+int(x[\"academics\"][\"hsc\"]))//2>=60,students))\n",
    "result"
   ]
  },
  {
   "cell_type": "code",
   "execution_count": null,
   "id": "c6598e6b",
   "metadata": {},
   "outputs": [],
   "source": []
  }
 ],
 "metadata": {
  "kernelspec": {
   "display_name": "Python 3",
   "language": "python",
   "name": "python3"
  },
  "language_info": {
   "codemirror_mode": {
    "name": "ipython",
    "version": 3
   },
   "file_extension": ".py",
   "mimetype": "text/x-python",
   "name": "python",
   "nbconvert_exporter": "python",
   "pygments_lexer": "ipython3",
   "version": "3.8.8"
  }
 },
 "nbformat": 4,
 "nbformat_minor": 5
}

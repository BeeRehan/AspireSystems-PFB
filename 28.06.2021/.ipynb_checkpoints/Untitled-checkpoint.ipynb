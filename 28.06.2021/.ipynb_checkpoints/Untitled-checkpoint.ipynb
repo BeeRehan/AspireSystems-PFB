{
 "cells": [
  {
   "cell_type": "markdown",
   "id": "f888521c",
   "metadata": {},
   "source": [
    "# Python using as the caalculator  "
   ]
  },
  {
   "cell_type": "code",
   "execution_count": 4,
   "id": "cf10d9e0",
   "metadata": {},
   "outputs": [
    {
     "data": {
      "text/plain": [
       "3"
      ]
     },
     "execution_count": 4,
     "metadata": {},
     "output_type": "execute_result"
    }
   ],
   "source": [
    "1+2"
   ]
  },
  {
   "cell_type": "code",
   "execution_count": 6,
   "id": "854d38f7",
   "metadata": {},
   "outputs": [
    {
     "data": {
      "text/plain": [
       "0.5"
      ]
     },
     "execution_count": 6,
     "metadata": {},
     "output_type": "execute_result"
    }
   ],
   "source": [
    "1/2  #Here the single forward slash return the whole value"
   ]
  },
  {
   "cell_type": "code",
   "execution_count": 7,
   "id": "f8e4a72c",
   "metadata": {},
   "outputs": [
    {
     "data": {
      "text/plain": [
       "0"
      ]
     },
     "execution_count": 7,
     "metadata": {},
     "output_type": "execute_result"
    }
   ],
   "source": [
    "1//2 #Here // usedto return the round value"
   ]
  },
  {
   "cell_type": "markdown",
   "id": "e3c2a1e0",
   "metadata": {},
   "source": [
    "# Numbers"
   ]
  },
  {
   "cell_type": "markdown",
   "id": "f04b61d3",
   "metadata": {},
   "source": [
    "# #In python there are three types of Numbers are available\n",
    "### 1) Int\n",
    "### 2) Float\n",
    "### 3) Complex"
   ]
  },
  {
   "cell_type": "code",
   "execution_count": 8,
   "id": "677153ee",
   "metadata": {},
   "outputs": [
    {
     "name": "stdout",
     "output_type": "stream",
     "text": [
      "<class 'int'>\n"
     ]
    }
   ],
   "source": [
    "#Int \n",
    "a = 1\n",
    "print(type(a))"
   ]
  },
  {
   "cell_type": "code",
   "execution_count": 10,
   "id": "c10edbbf",
   "metadata": {},
   "outputs": [
    {
     "name": "stdout",
     "output_type": "stream",
     "text": [
      "<class 'float'>\n"
     ]
    }
   ],
   "source": [
    "print(type(1.0))"
   ]
  },
  {
   "cell_type": "code",
   "execution_count": 13,
   "id": "38de610a",
   "metadata": {},
   "outputs": [
    {
     "name": "stdout",
     "output_type": "stream",
     "text": [
      "<class 'complex'>\n"
     ]
    }
   ],
   "source": [
    "print(type(1+2j))"
   ]
  },
  {
   "cell_type": "markdown",
   "id": "b1270a28",
   "metadata": {},
   "source": [
    "# Strings"
   ]
  },
  {
   "cell_type": "markdown",
   "id": "33494671",
   "metadata": {},
   "source": [
    "In python string is a considered immutable data type.\n",
    "It can be declared within single or double quotes.\n",
    "We can also use trible qoute string for multiline string"
   ]
  },
  {
   "cell_type": "code",
   "execution_count": 15,
   "id": "9df8d093",
   "metadata": {},
   "outputs": [],
   "source": [
    "a = \"Yasin\"\n",
    "b = 'Mohamed'\n",
    "c = '''\n",
    "    Mohamed Yasin M\n",
    "    Aspirian\n",
    "    '''"
   ]
  },
  {
   "cell_type": "code",
   "execution_count": 17,
   "id": "d865c7d9",
   "metadata": {},
   "outputs": [
    {
     "name": "stdout",
     "output_type": "stream",
     "text": [
      "Yasin \n",
      " Mohamed \n",
      " \n",
      "    Mohamed Yasin M\n",
      "    Aspirian\n",
      "    \n"
     ]
    }
   ],
   "source": [
    "print(a,\"\\n\",b,\"\\n\",c)"
   ]
  },
  {
   "cell_type": "markdown",
   "id": "d87a6ec8",
   "metadata": {},
   "source": [
    "# List"
   ]
  },
  {
   "cell_type": "code",
   "execution_count": 23,
   "id": "29a290aa",
   "metadata": {},
   "outputs": [
    {
     "name": "stdout",
     "output_type": "stream",
     "text": [
      "[0, 1, 2, 3, 4, 5, 6, 7, 8, 9]\n"
     ]
    }
   ],
   "source": [
    "a = [i for i in range(10)]\n",
    "print(a)"
   ]
  },
  {
   "cell_type": "markdown",
   "id": "2d566d7e",
   "metadata": {},
   "source": [
    "#### Both string and list are sequence type data type\n",
    "We can access it by index\n",
    "rather than other language like c, java python support negative operator \n",
    "\n",
    ">Here List mutable which we change the value by index\n",
    ">String is immutable because of constant pool we cant change the specific element if we want to make modification we need to create a new string"
   ]
  },
  {
   "cell_type": "code",
   "execution_count": 32,
   "id": "662f77e9",
   "metadata": {},
   "outputs": [
    {
     "name": "stdout",
     "output_type": "stream",
     "text": [
      "[0, 1, 2, 3] [0, 1, 2, 3, 4, 5, 6, 7, 8]\n"
     ]
    }
   ],
   "source": [
    "print(a[:4],a[:-1])"
   ]
  },
  {
   "cell_type": "code",
   "execution_count": 35,
   "id": "b3c3e3c4",
   "metadata": {},
   "outputs": [
    {
     "name": "stdout",
     "output_type": "stream",
     "text": [
      "Mohame\n"
     ]
    }
   ],
   "source": [
    "print(b[:-1])"
   ]
  },
  {
   "cell_type": "code",
   "execution_count": null,
   "id": "74008fbf",
   "metadata": {},
   "outputs": [],
   "source": []
  }
 ],
 "metadata": {
  "kernelspec": {
   "display_name": "Python 3",
   "language": "python",
   "name": "python3"
  },
  "language_info": {
   "codemirror_mode": {
    "name": "ipython",
    "version": 3
   },
   "file_extension": ".py",
   "mimetype": "text/x-python",
   "name": "python",
   "nbconvert_exporter": "python",
   "pygments_lexer": "ipython3",
   "version": "3.8.8"
  }
 },
 "nbformat": 4,
 "nbformat_minor": 5
}

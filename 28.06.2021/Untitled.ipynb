{
 "cells": [
  {
   "cell_type": "markdown",
   "id": "ffadf182",
   "metadata": {},
   "source": [
    "# Python using as the caalculator  "
   ]
  },
  {
   "cell_type": "code",
   "execution_count": 4,
   "id": "b1802922",
   "metadata": {},
   "outputs": [
    {
     "data": {
      "text/plain": [
       "3"
      ]
     },
     "execution_count": 4,
     "metadata": {},
     "output_type": "execute_result"
    }
   ],
   "source": [
    "1+2"
   ]
  },
  {
   "cell_type": "code",
   "execution_count": 6,
   "id": "83095e76",
   "metadata": {},
   "outputs": [
    {
     "data": {
      "text/plain": [
       "0.5"
      ]
     },
     "execution_count": 6,
     "metadata": {},
     "output_type": "execute_result"
    }
   ],
   "source": [
    "1/2  #Here the single forward slash return the whole value"
   ]
  },
  {
   "cell_type": "code",
   "execution_count": 7,
   "id": "02c6cb7b",
   "metadata": {},
   "outputs": [
    {
     "data": {
      "text/plain": [
       "0"
      ]
     },
     "execution_count": 7,
     "metadata": {},
     "output_type": "execute_result"
    }
   ],
   "source": [
    "1//2 #Here // usedto return the round value"
   ]
  },
  {
   "cell_type": "markdown",
   "id": "dc274464",
   "metadata": {},
   "source": [
    "# Numbers"
   ]
  },
  {
   "cell_type": "markdown",
   "id": "d06a8937",
   "metadata": {},
   "source": [
    "# #In python there are three types of Numbers are available\n",
    "### 1) Int\n",
    "### 2) Float\n",
    "### 3) Complex"
   ]
  },
  {
   "cell_type": "code",
   "execution_count": 8,
   "id": "25129ff8",
   "metadata": {},
   "outputs": [
    {
     "name": "stdout",
     "output_type": "stream",
     "text": [
      "<class 'int'>\n"
     ]
    }
   ],
   "source": [
    "#Int \n",
    "a = 1\n",
    "print(type(a))"
   ]
  },
  {
   "cell_type": "code",
   "execution_count": 10,
   "id": "092306e8",
   "metadata": {},
   "outputs": [
    {
     "name": "stdout",
     "output_type": "stream",
     "text": [
      "<class 'float'>\n"
     ]
    }
   ],
   "source": [
    "print(type(1.0))"
   ]
  },
  {
   "cell_type": "code",
   "execution_count": 13,
   "id": "442ae06c",
   "metadata": {},
   "outputs": [
    {
     "name": "stdout",
     "output_type": "stream",
     "text": [
      "<class 'complex'>\n"
     ]
    }
   ],
   "source": [
    "print(type(1+2j))"
   ]
  },
  {
   "cell_type": "markdown",
   "id": "08252ac1",
   "metadata": {},
   "source": [
    "# Strings"
   ]
  },
  {
   "cell_type": "markdown",
   "id": "e69066f9",
   "metadata": {},
   "source": [
    "In python string is a considered immutable data type.\n",
    "It can be declared within single or double quotes.\n",
    "We can also use trible qoute string for multiline string"
   ]
  },
  {
   "cell_type": "code",
   "execution_count": 15,
   "id": "f1427460",
   "metadata": {},
   "outputs": [],
   "source": [
    "a = \"Yasin\"\n",
    "b = 'Mohamed'\n",
    "c = '''\n",
    "    Mohamed Yasin M\n",
    "    Aspirian\n",
    "    '''"
   ]
  },
  {
   "cell_type": "code",
   "execution_count": 17,
   "id": "72a9ae70",
   "metadata": {},
   "outputs": [
    {
     "name": "stdout",
     "output_type": "stream",
     "text": [
      "Yasin \n",
      " Mohamed \n",
      " \n",
      "    Mohamed Yasin M\n",
      "    Aspirian\n",
      "    \n"
     ]
    }
   ],
   "source": [
    "print(a,\"\\n\",b,\"\\n\",c)"
   ]
  },
  {
   "cell_type": "markdown",
   "id": "6f6ec5a6",
   "metadata": {},
   "source": [
    "# List"
   ]
  },
  {
   "cell_type": "code",
   "execution_count": 23,
   "id": "d4b2618b",
   "metadata": {},
   "outputs": [
    {
     "name": "stdout",
     "output_type": "stream",
     "text": [
      "[0, 1, 2, 3, 4, 5, 6, 7, 8, 9]\n"
     ]
    }
   ],
   "source": [
    "a = [i for i in range(10)]\n",
    "print(a)"
   ]
  },
  {
   "cell_type": "markdown",
   "id": "75f25f19",
   "metadata": {},
   "source": [
    "#### Both string and list are sequence type data type\n",
    "We can access it by index\n",
    "rather than other language like c, java python support negative operator \n",
    "\n",
    ">Here List mutable which we change the value by index\n",
    ">String is immutable because of constant pool we cant change the specific element if we want to make modification we need to create a new string"
   ]
  },
  {
   "cell_type": "code",
   "execution_count": 32,
   "id": "91942001",
   "metadata": {},
   "outputs": [
    {
     "name": "stdout",
     "output_type": "stream",
     "text": [
      "[0, 1, 2, 3] [0, 1, 2, 3, 4, 5, 6, 7, 8]\n"
     ]
    }
   ],
   "source": [
    "print(a[:4],a[:-1])"
   ]
  },
  {
   "cell_type": "code",
   "execution_count": 37,
   "id": "f4b4d533",
   "metadata": {},
   "outputs": [
    {
     "name": "stdout",
     "output_type": "stream",
     "text": [
      "\n"
     ]
    }
   ],
   "source": [
    "print(b[-1:-5])"
   ]
  },
  {
   "cell_type": "code",
   "execution_count": null,
   "id": "c2fb6d80",
   "metadata": {},
   "outputs": [],
   "source": []
  }
 ],
 "metadata": {
  "kernelspec": {
   "display_name": "Python 3",
   "language": "python",
   "name": "python3"
  },
  "language_info": {
   "codemirror_mode": {
    "name": "ipython",
    "version": 3
   },
   "file_extension": ".py",
   "mimetype": "text/x-python",
   "name": "python",
   "nbconvert_exporter": "python",
   "pygments_lexer": "ipython3",
   "version": "3.8.8"
  }
 },
 "nbformat": 4,
 "nbformat_minor": 5
}

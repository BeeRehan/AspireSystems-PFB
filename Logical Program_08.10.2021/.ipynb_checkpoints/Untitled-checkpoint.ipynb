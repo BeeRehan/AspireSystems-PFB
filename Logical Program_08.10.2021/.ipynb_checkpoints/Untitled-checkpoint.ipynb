{
 "cells": [
  {
   "cell_type": "markdown",
   "id": "e2e863e7",
   "metadata": {},
   "source": [
    "# Print the given two arrays in a shorted form.\n",
    "\n",
    "· Input: [1,3,5,7] [2,4,6,8]\n",
    "\n",
    "· Output: 1,2,3,4,5,6,7,8"
   ]
  },
  {
   "cell_type": "code",
   "execution_count": 3,
   "id": "0d06e9e0",
   "metadata": {},
   "outputs": [
    {
     "name": "stdout",
     "output_type": "stream",
     "text": [
      "Enter the first array\n",
      "1 3 4\n",
      "Enter the second array\n",
      "2 6 5\n",
      "[1, 2, 3, 4, 5, 6]\n"
     ]
    }
   ],
   "source": [
    "print(\"Enter the first array\")\n",
    "list_one = list(map(int,input().split()))\n",
    "print(\"Enter the second array\")\n",
    "list_two = list(map(int,input().split()))\n",
    "\n",
    "merged_list = list_one+list_two\n",
    "\n",
    "for i in range(0,len(merged_list)):\n",
    "    for j in range(i,len(merged_list)):\n",
    "        if(merged_list[i]>merged_list[j]):\n",
    "            merged_list[i],merged_list[j] = merged_list[j],merged_list[i]\n",
    "            \n",
    "print(merged_list)\n",
    "    \n",
    "\n"
   ]
  },
  {
   "cell_type": "markdown",
   "id": "01eab9dd",
   "metadata": {},
   "source": [
    "# Input is an array like below,\n",
    "A =[1,2,3,4,5,6,7,8] He expected the out put like below.Output: [1,8,3,6,5,4,7,2]\n",
    "\n"
   ]
  },
  {
   "cell_type": "code",
   "execution_count": null,
   "id": "26f03166",
   "metadata": {},
   "outputs": [],
   "source": [
    "input_list = list(map(int,input().split()))"
   ]
  }
 ],
 "metadata": {
  "kernelspec": {
   "display_name": "Python 3",
   "language": "python",
   "name": "python3"
  },
  "language_info": {
   "codemirror_mode": {
    "name": "ipython",
    "version": 3
   },
   "file_extension": ".py",
   "mimetype": "text/x-python",
   "name": "python",
   "nbconvert_exporter": "python",
   "pygments_lexer": "ipython3",
   "version": "3.8.8"
  }
 },
 "nbformat": 4,
 "nbformat_minor": 5
}

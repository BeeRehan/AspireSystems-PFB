{
 "cells": [
  {
   "cell_type": "markdown",
   "id": "b6791fc0",
   "metadata": {},
   "source": [
    "# Print the given two arrays in a shorted form.\n",
    "\n",
    "· Input: [1,3,5,7] [2,4,6,8]\n",
    "\n",
    "· Output: 1,2,3,4,5,6,7,8"
   ]
  },
  {
   "cell_type": "code",
   "execution_count": 3,
   "id": "cd8f6694",
   "metadata": {},
   "outputs": [
    {
     "name": "stdout",
     "output_type": "stream",
     "text": [
      "Enter the first array\n",
      "1 3 4\n",
      "Enter the second array\n",
      "2 6 5\n",
      "[1, 2, 3, 4, 5, 6]\n"
     ]
    }
   ],
   "source": [
    "print(\"Enter the first array\")\n",
    "list_one = list(map(int,input().split()))\n",
    "print(\"Enter the second array\")\n",
    "list_two = list(map(int,input().split()))\n",
    "\n",
    "merged_list = list_one+list_two\n",
    "\n",
    "for i in range(0,len(merged_list)):\n",
    "    for j in range(i,len(merged_list)):\n",
    "        if(merged_list[i]>merged_list[j]):\n",
    "            merged_list[i],merged_list[j] = merged_list[j],merged_list[i]\n",
    "            \n",
    "print(merged_list)\n",
    "    \n",
    "\n"
   ]
  },
  {
   "cell_type": "markdown",
   "id": "9ef12929",
   "metadata": {},
   "source": [
    "# Input is an array like below,\n",
    "A =[1,2,3,4,5,6,7,8] He expected the out put like below.Output: [1,8,3,6,5,4,7,2]\n",
    "\n"
   ]
  },
  {
   "cell_type": "code",
   "execution_count": 5,
   "id": "92f6247d",
   "metadata": {},
   "outputs": [
    {
     "name": "stdout",
     "output_type": "stream",
     "text": [
      "1 2 3 4 5 6 7 8\n",
      "1,8,3,4,5,6,7,2,"
     ]
    }
   ],
   "source": [
    "input_list = list(map(int,input().split()))\n",
    "\n",
    "for i in range(0,len(input_list)):\n",
    "    if(i%2==0):\n",
    "        print(input_list[i],end=',')\n",
    "    else:\n",
    "        print(input_list[i]**3%10,end=',')"
   ]
  },
  {
   "cell_type": "markdown",
   "id": "cebd86a9",
   "metadata": {},
   "source": [
    "# Example \n",
    "(a+b) true\n",
    "a+b)false)\n",
    "(a+b)( false"
   ]
  },
  {
   "cell_type": "code",
   "execution_count": 11,
   "id": "aebe2aec",
   "metadata": {},
   "outputs": [
    {
     "name": "stdout",
     "output_type": "stream",
     "text": [
      "(a+b)(\n",
      "False\n"
     ]
    }
   ],
   "source": [
    "input_text = input()\n",
    "count = 0\n",
    "\n",
    "for i in input_text:\n",
    "    if i=='(':\n",
    "        count+=1\n",
    "    if i==')':\n",
    "        count-=1\n",
    "if(count==0):\n",
    "    print(True)\n",
    "else:\n",
    "    print(False)"
   ]
  },
  {
   "cell_type": "markdown",
   "id": "b44a91f3",
   "metadata": {},
   "source": [
    "# Given a array for eg: [2,3,4,1,5,5] split it into 2 arrays so both have same sum."
   ]
  },
  {
   "cell_type": "code",
   "execution_count": null,
   "id": "22bf13e0",
   "metadata": {},
   "outputs": [],
   "source": []
  }
 ],
 "metadata": {
  "kernelspec": {
   "display_name": "Python 3",
   "language": "python",
   "name": "python3"
  },
  "language_info": {
   "codemirror_mode": {
    "name": "ipython",
    "version": 3
   },
   "file_extension": ".py",
   "mimetype": "text/x-python",
   "name": "python",
   "nbconvert_exporter": "python",
   "pygments_lexer": "ipython3",
   "version": "3.8.8"
  }
 },
 "nbformat": 4,
 "nbformat_minor": 5
}

{
 "cells": [
  {
   "cell_type": "markdown",
   "id": "5348fcb5",
   "metadata": {},
   "source": [
    "# Function Annotations"
   ]
  },
  {
   "cell_type": "code",
   "execution_count": 12,
   "id": "d17cd8fb",
   "metadata": {},
   "outputs": [
    {
     "data": {
      "text/plain": [
       "3"
      ]
     },
     "execution_count": 12,
     "metadata": {},
     "output_type": "execute_result"
    }
   ],
   "source": [
    "#Before Annotations\n",
    "def add(a,b):\n",
    "    '''\n",
    "        a->int\n",
    "        b->int\n",
    "        return value->int\n",
    "        \n",
    "    '''\n",
    "    \n",
    "    return(a+b)\n",
    "\n",
    "add(1,2)\n"
   ]
  },
  {
   "cell_type": "code",
   "execution_count": 13,
   "id": "e7b26b88",
   "metadata": {},
   "outputs": [
    {
     "name": "stdout",
     "output_type": "stream",
     "text": [
      "\n",
      "        a->int\n",
      "        b->int\n",
      "        return value->int\n",
      "        \n",
      "    \n"
     ]
    }
   ],
   "source": [
    "print(add.__doc__)"
   ]
  },
  {
   "cell_type": "code",
   "execution_count": 3,
   "id": "a36af25d",
   "metadata": {},
   "outputs": [
    {
     "data": {
      "text/plain": [
       "7"
      ]
     },
     "execution_count": 3,
     "metadata": {},
     "output_type": "execute_result"
    }
   ],
   "source": [
    "#Use of annotation\n",
    "\n",
    "def add(a:int , b:int)->int:\n",
    "    return(a+b)\n",
    "\n",
    "\n",
    "add(3,4)"
   ]
  },
  {
   "cell_type": "code",
   "execution_count": 5,
   "id": "c54cd10d",
   "metadata": {},
   "outputs": [
    {
     "data": {
      "text/plain": [
       "{'a': int, 'b': int, 'return': int}"
      ]
     },
     "execution_count": 5,
     "metadata": {},
     "output_type": "execute_result"
    }
   ],
   "source": [
    "add.__annotations__"
   ]
  },
  {
   "cell_type": "code",
   "execution_count": null,
   "id": "05f8eacd",
   "metadata": {},
   "outputs": [],
   "source": []
  },
  {
   "cell_type": "markdown",
   "id": "d90f5a96",
   "metadata": {},
   "source": [
    "# Datetime Module"
   ]
  },
  {
   "cell_type": "code",
   "execution_count": 18,
   "id": "12296d1f",
   "metadata": {},
   "outputs": [
    {
     "name": "stdout",
     "output_type": "stream",
     "text": [
      "2021-07-17\n"
     ]
    }
   ],
   "source": [
    "import datetime\n",
    "\n",
    "'''\n",
    "Has 6 subclasses like,\n",
    "\n",
    "date\n",
    "time\n",
    "datetime\n",
    "\n",
    "timedelta-----------> Used for calculaltions\n",
    "tzinfo\n",
    "tzone-->abstract class\n",
    "\n",
    "'''\n",
    "\n",
    "today = datetime.date.today()\n",
    "\n",
    "print(today)"
   ]
  },
  {
   "cell_type": "code",
   "execution_count": 29,
   "id": "7fcc7f8c",
   "metadata": {},
   "outputs": [
    {
     "name": "stdout",
     "output_type": "stream",
     "text": [
      "1626512560.610685\n",
      "2021-07-17 14:32:40.610685\n",
      "2000-04-08\n"
     ]
    }
   ],
   "source": [
    "date = datetime.date\n",
    "time = datetime.time()\n",
    "dt = datetime.datetime\n",
    "\n",
    "c = date(2000,4,8)\n",
    "\n",
    "print(dt.now().timestamp())\n",
    "\n",
    "print(dt.fromtimestamp(dt.now().timestamp()))\n",
    "\n",
    "\n",
    "print(c)"
   ]
  },
  {
   "cell_type": "code",
   "execution_count": 30,
   "id": "f807a016",
   "metadata": {},
   "outputs": [
    {
     "ename": "TypeError",
     "evalue": "unsupported operand type(s) for +: 'datetime.date' and 'int'",
     "output_type": "error",
     "traceback": [
      "\u001b[1;31m---------------------------------------------------------------------------\u001b[0m",
      "\u001b[1;31mTypeError\u001b[0m                                 Traceback (most recent call last)",
      "\u001b[1;32m<ipython-input-30-df4f005f13f4>\u001b[0m in \u001b[0;36m<module>\u001b[1;34m\u001b[0m\n\u001b[1;32m----> 1\u001b[1;33m \u001b[0mprint\u001b[0m\u001b[1;33m(\u001b[0m\u001b[0mtoday\u001b[0m\u001b[1;33m+\u001b[0m\u001b[1;36m2\u001b[0m\u001b[1;33m)\u001b[0m\u001b[1;33m\u001b[0m\u001b[1;33m\u001b[0m\u001b[0m\n\u001b[0m",
      "\u001b[1;31mTypeError\u001b[0m: unsupported operand type(s) for +: 'datetime.date' and 'int'"
     ]
    }
   ],
   "source": [
    "print(today+2)"
   ]
  },
  {
   "cell_type": "code",
   "execution_count": 31,
   "id": "c4d193cd",
   "metadata": {},
   "outputs": [
    {
     "name": "stdout",
     "output_type": "stream",
     "text": [
      "2021-07-19\n"
     ]
    }
   ],
   "source": [
    "print(today+datetime.timedelta(2))"
   ]
  },
  {
   "cell_type": "code",
   "execution_count": null,
   "id": "e6e6400d",
   "metadata": {},
   "outputs": [],
   "source": []
  }
 ],
 "metadata": {
  "kernelspec": {
   "display_name": "Python 3",
   "language": "python",
   "name": "python3"
  },
  "language_info": {
   "codemirror_mode": {
    "name": "ipython",
    "version": 3
   },
   "file_extension": ".py",
   "mimetype": "text/x-python",
   "name": "python",
   "nbconvert_exporter": "python",
   "pygments_lexer": "ipython3",
   "version": "3.8.8"
  }
 },
 "nbformat": 4,
 "nbformat_minor": 5
}

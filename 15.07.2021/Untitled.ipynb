{
 "cells": [
  {
   "cell_type": "code",
   "execution_count": 2,
   "id": "a3da1c40",
   "metadata": {},
   "outputs": [],
   "source": [
    "import smtplib"
   ]
  },
  {
   "cell_type": "code",
   "execution_count": null,
   "id": "fd8642d9",
   "metadata": {},
   "outputs": [],
   "source": [
    "try:\n",
    "    Obj = smtplib.SMTP('localhost',\"8888\")\n",
    "    Obj.sendmail(\"beeyasinit@gmail.com\",\"beeyasinit@gmail.com\",\"Hello this is test!!!\")\n",
    "except Exception as e:\n",
    "    print(e)"
   ]
  },
  {
   "cell_type": "code",
   "execution_count": null,
   "id": "f0e75a9e",
   "metadata": {},
   "outputs": [],
   "source": []
  }
 ],
 "metadata": {
  "kernelspec": {
   "display_name": "Python 3",
   "language": "python",
   "name": "python3"
  },
  "language_info": {
   "codemirror_mode": {
    "name": "ipython",
    "version": 3
   },
   "file_extension": ".py",
   "mimetype": "text/x-python",
   "name": "python",
   "nbconvert_exporter": "python",
   "pygments_lexer": "ipython3",
   "version": "3.8.8"
  }
 },
 "nbformat": 4,
 "nbformat_minor": 5
}

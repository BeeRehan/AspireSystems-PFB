{
 "cells": [
  {
   "cell_type": "markdown",
   "id": "2a70d411",
   "metadata": {},
   "source": [
    "# Function Annotations"
   ]
  },
  {
   "cell_type": "code",
   "execution_count": 12,
   "id": "d7876935",
   "metadata": {},
   "outputs": [
    {
     "data": {
      "text/plain": [
       "3"
      ]
     },
     "execution_count": 12,
     "metadata": {},
     "output_type": "execute_result"
    }
   ],
   "source": [
    "#Before Annotations\n",
    "def add(a,b):\n",
    "    '''\n",
    "        a->int\n",
    "        b->int\n",
    "        return value->int\n",
    "        \n",
    "    '''\n",
    "    \n",
    "    return(a+b)\n",
    "\n",
    "add(1,2)\n"
   ]
  },
  {
   "cell_type": "code",
   "execution_count": 13,
   "id": "2f245c3b",
   "metadata": {},
   "outputs": [
    {
     "name": "stdout",
     "output_type": "stream",
     "text": [
      "\n",
      "        a->int\n",
      "        b->int\n",
      "        return value->int\n",
      "        \n",
      "    \n"
     ]
    }
   ],
   "source": [
    "print(add.__doc__)"
   ]
  },
  {
   "cell_type": "code",
   "execution_count": 3,
   "id": "a689b649",
   "metadata": {},
   "outputs": [
    {
     "data": {
      "text/plain": [
       "7"
      ]
     },
     "execution_count": 3,
     "metadata": {},
     "output_type": "execute_result"
    }
   ],
   "source": [
    "#Use of annotation\n",
    "\n",
    "def add(a:int , b:int)->int:\n",
    "    return(a+b)\n",
    "\n",
    "\n",
    "add(3,4)"
   ]
  },
  {
   "cell_type": "code",
   "execution_count": 5,
   "id": "ccd4cf44",
   "metadata": {},
   "outputs": [
    {
     "data": {
      "text/plain": [
       "{'a': int, 'b': int, 'return': int}"
      ]
     },
     "execution_count": 5,
     "metadata": {},
     "output_type": "execute_result"
    }
   ],
   "source": [
    "add.__annotations__"
   ]
  },
  {
   "cell_type": "code",
   "execution_count": null,
   "id": "8bab9fd2",
   "metadata": {},
   "outputs": [],
   "source": []
  },
  {
   "cell_type": "markdown",
   "id": "8b56eba5",
   "metadata": {},
   "source": [
    "# Datetime Module"
   ]
  },
  {
   "cell_type": "code",
   "execution_count": 16,
   "id": "4e682b00",
   "metadata": {},
   "outputs": [
    {
     "name": "stdout",
     "output_type": "stream",
     "text": [
      "2021-07-17\n"
     ]
    }
   ],
   "source": [
    "import datetime\n",
    "\n",
    "'''\n",
    "Has 6 subclasses like,\n",
    "\n",
    "date\n",
    "time\n",
    "datetime\n",
    "\n",
    "timedelta-----------> Used for calculaltions\n",
    "tzinfo\n",
    "tzone-->abstract class\n",
    "\n",
    "'''\n",
    "\n",
    "today = datetime.date.today()\n",
    "\n",
    "print(today)"
   ]
  },
  {
   "cell_type": "code",
   "execution_count": 17,
   "id": "99e07409",
   "metadata": {},
   "outputs": [
    {
     "name": "stdout",
     "output_type": "stream",
     "text": [
      "2000-04-08\n"
     ]
    }
   ],
   "source": [
    "date = datetime.date\n",
    "time = datetime.time()\n",
    "dt = datetime.datetime\n",
    "\n",
    "c = date(2000,4,8)\n",
    "print(c)"
   ]
  },
  {
   "cell_type": "code",
   "execution_count": null,
   "id": "61fe591b",
   "metadata": {},
   "outputs": [],
   "source": []
  }
 ],
 "metadata": {
  "kernelspec": {
   "display_name": "Python 3",
   "language": "python",
   "name": "python3"
  },
  "language_info": {
   "codemirror_mode": {
    "name": "ipython",
    "version": 3
   },
   "file_extension": ".py",
   "mimetype": "text/x-python",
   "name": "python",
   "nbconvert_exporter": "python",
   "pygments_lexer": "ipython3",
   "version": "3.8.8"
  }
 },
 "nbformat": 4,
 "nbformat_minor": 5
}

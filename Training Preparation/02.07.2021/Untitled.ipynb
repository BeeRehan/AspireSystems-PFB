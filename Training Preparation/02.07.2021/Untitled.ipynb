{
 "cells": [
  {
   "cell_type": "code",
   "execution_count": 1,
   "id": "e0ea24f7",
   "metadata": {},
   "outputs": [
    {
     "name": "stdout",
     "output_type": "stream",
     "text": [
      "False\n"
     ]
    }
   ],
   "source": [
    "print(\"True\" if(0) else \"False\")"
   ]
  },
  {
   "cell_type": "code",
   "execution_count": 2,
   "id": "f117f71c",
   "metadata": {},
   "outputs": [
    {
     "name": "stdout",
     "output_type": "stream",
     "text": [
      "2\n"
     ]
    }
   ],
   "source": [
    "print(((1,2)[1<2]))#Ternary Operator"
   ]
  },
  {
   "cell_type": "code",
   "execution_count": 20,
   "id": "a7952e58",
   "metadata": {},
   "outputs": [
    {
     "data": {
      "text/plain": [
       "True"
      ]
     },
     "execution_count": 20,
     "metadata": {},
     "output_type": "execute_result"
    }
   ],
   "source": [
    "(1,2,3)==(1,2,3)#Doubts"
   ]
  },
  {
   "cell_type": "code",
   "execution_count": 19,
   "id": "b5da552a",
   "metadata": {},
   "outputs": [
    {
     "data": {
      "text/plain": [
       "False"
      ]
     },
     "execution_count": 19,
     "metadata": {},
     "output_type": "execute_result"
    }
   ],
   "source": [
    "[1,2,3]<[1,2,1]"
   ]
  },
  {
   "cell_type": "markdown",
   "id": "e92ff48c",
   "metadata": {},
   "source": [
    "# Iterator"
   ]
  },
  {
   "cell_type": "code",
   "execution_count": 34,
   "id": "c23a93e3",
   "metadata": {},
   "outputs": [
    {
     "name": "stdout",
     "output_type": "stream",
     "text": [
      "1\n",
      "2\n",
      "3\n"
     ]
    }
   ],
   "source": [
    "l = [1,2,3,4]\n",
    "it = iter(l)\n",
    "print(next(it))\n",
    "print(next(it))\n",
    "print(next(it))"
   ]
  },
  {
   "cell_type": "code",
   "execution_count": 3,
   "id": "35112e78",
   "metadata": {},
   "outputs": [],
   "source": [
    "import mypack"
   ]
  },
  {
   "cell_type": "code",
   "execution_count": 5,
   "id": "9774feb5",
   "metadata": {},
   "outputs": [
    {
     "name": "stdout",
     "output_type": "stream",
     "text": [
      "<module 'mypack' from 'C:\\\\Users\\\\MD\\\\OneDrive\\\\Documents\\\\gi\\\\AspireSystems-PFB\\\\02.07.2021\\\\mypack\\\\__init__.py'>\n"
     ]
    }
   ],
   "source": [
    "print(mypack)"
   ]
  },
  {
   "cell_type": "code",
   "execution_count": 6,
   "id": "ab773548",
   "metadata": {},
   "outputs": [
    {
     "name": "stdout",
     "output_type": "stream",
     "text": [
      "{}\n"
     ]
    }
   ],
   "source": [
    "d = dict()\n",
    "print(d)"
   ]
  },
  {
   "cell_type": "code",
   "execution_count": null,
   "id": "ed6f89fd",
   "metadata": {},
   "outputs": [],
   "source": [
    "d.append ()"
   ]
  }
 ],
 "metadata": {
  "kernelspec": {
   "display_name": "Python 3",
   "language": "python",
   "name": "python3"
  },
  "language_info": {
   "codemirror_mode": {
    "name": "ipython",
    "version": 3
   },
   "file_extension": ".py",
   "mimetype": "text/x-python",
   "name": "python",
   "nbconvert_exporter": "python",
   "pygments_lexer": "ipython3",
   "version": "3.8.8"
  }
 },
 "nbformat": 4,
 "nbformat_minor": 5
}

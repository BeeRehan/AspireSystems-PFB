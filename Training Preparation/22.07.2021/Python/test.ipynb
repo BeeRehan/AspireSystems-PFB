{
 "cells": [
  {
   "cell_type": "code",
   "execution_count": 7,
   "id": "2887c396",
   "metadata": {},
   "outputs": [],
   "source": [
    "crendials = {\n",
    "      'common':['id','name','cost','currency','category','colour'],\n",
    "      'mobile' : ['ram','processor','screen_size'],\n",
    "      'WashingMachine' : ['machine_capacity','machine_rpm','type'],\n",
    "      'tv' : ['isSmart','resolution','screen_size']\n",
    "    }"
   ]
  },
  {
   "cell_type": "code",
   "execution_count": 8,
   "id": "af169b3f",
   "metadata": {},
   "outputs": [
    {
     "name": "stdout",
     "output_type": "stream",
     "text": [
      "id\n",
      "name\n",
      "cost\n",
      "currency\n",
      "category\n",
      "colour\n",
      "ram\n",
      "processor\n",
      "screen_size\n",
      "machine_capacity\n",
      "machine_rpm\n",
      "type\n",
      "isSmart\n",
      "resolution\n",
      "screen_size\n"
     ]
    }
   ],
   "source": [
    "for i in crendials:\n",
    "    for j in crendials[i]:\n",
    "        print(j)"
   ]
  },
  {
   "cell_type": "code",
   "execution_count": null,
   "id": "bba1e12a",
   "metadata": {},
   "outputs": [],
   "source": [
    "#msg = \n",
    "m = input('Enter the {0}'.format('name'))"
   ]
  },
  {
   "cell_type": "code",
   "execution_count": 4,
   "id": "cefd239f",
   "metadata": {},
   "outputs": [
    {
     "ename": "KeyError",
     "evalue": "'cat'",
     "output_type": "error",
     "traceback": [
      "\u001b[1;31m---------------------------------------------------------------------------\u001b[0m",
      "\u001b[1;31mKeyError\u001b[0m                                  Traceback (most recent call last)",
      "\u001b[1;32m<ipython-input-4-661771c5e897>\u001b[0m in \u001b[0;36m<module>\u001b[1;34m\u001b[0m\n\u001b[0;32m      1\u001b[0m \u001b[0md\u001b[0m \u001b[1;33m=\u001b[0m \u001b[0mdict\u001b[0m\u001b[1;33m(\u001b[0m\u001b[1;33m)\u001b[0m\u001b[1;33m\u001b[0m\u001b[1;33m\u001b[0m\u001b[0m\n\u001b[0;32m      2\u001b[0m \u001b[1;33m\u001b[0m\u001b[0m\n\u001b[1;32m----> 3\u001b[1;33m \u001b[0md\u001b[0m\u001b[1;33m[\u001b[0m\u001b[1;34m'cat'\u001b[0m\u001b[1;33m]\u001b[0m\u001b[1;33m.\u001b[0m\u001b[0mappend\u001b[0m\u001b[1;33m(\u001b[0m\u001b[1;33m{\u001b[0m\u001b[1;34m's'\u001b[0m\u001b[1;33m:\u001b[0m\u001b[1;36m2132\u001b[0m\u001b[1;33m}\u001b[0m\u001b[1;33m)\u001b[0m\u001b[1;33m\u001b[0m\u001b[1;33m\u001b[0m\u001b[0m\n\u001b[0m\u001b[0;32m      4\u001b[0m \u001b[1;33m\u001b[0m\u001b[0m\n\u001b[0;32m      5\u001b[0m \u001b[0md\u001b[0m\u001b[1;33m\u001b[0m\u001b[1;33m\u001b[0m\u001b[0m\n",
      "\u001b[1;31mKeyError\u001b[0m: 'cat'"
     ]
    }
   ],
   "source": [
    "d = dict()\n",
    "\n",
    "d['cat'].append({'s':2132})\n",
    "\n",
    "d"
   ]
  },
  {
   "cell_type": "code",
   "execution_count": 2,
   "id": "f463b00f",
   "metadata": {},
   "outputs": [],
   "source": [
    "import datetime"
   ]
  },
  {
   "cell_type": "code",
   "execution_count": 6,
   "id": "2377650e",
   "metadata": {},
   "outputs": [
    {
     "name": "stdout",
     "output_type": "stream",
     "text": [
      "false 7\n"
     ]
    }
   ],
   "source": [
    "d = datetime.datetime(2021,7,21)\n",
    "e = datetime.datetime.today()\n",
    "\n",
    "if(d>e):\n",
    "    print(\"true\")\n",
    "else:\n",
    "    print(\"false\",int('07'))"
   ]
  },
  {
   "cell_type": "code",
   "execution_count": null,
   "id": "e270302f",
   "metadata": {},
   "outputs": [],
   "source": [
    "from msvcrt import getch\n",
    "\n",
    "a = getch()ii"
   ]
  },
  {
   "cell_type": "code",
   "execution_count": 7,
   "id": "52742a1c",
   "metadata": {},
   "outputs": [
    {
     "name": "stdout",
     "output_type": "stream",
     "text": [
      "16\n"
     ]
    }
   ],
   "source": [
    "print(len('1111111111111111'))\n",
    "\n"
   ]
  },
  {
   "cell_type": "code",
   "execution_count": 8,
   "id": "015fad89",
   "metadata": {},
   "outputs": [],
   "source": [
    "import re"
   ]
  },
  {
   "cell_type": "code",
   "execution_count": 10,
   "id": "1ca2e453",
   "metadata": {},
   "outputs": [
    {
     "name": "stdout",
     "output_type": "stream",
     "text": [
      "None\n"
     ]
    }
   ],
   "source": [
    "a = 'mohamed@oksi' \n",
    "\n",
    "print(re.search('@+oksi',a))"
   ]
  },
  {
   "cell_type": "code",
   "execution_count": 12,
   "id": "cbfffebe",
   "metadata": {},
   "outputs": [
    {
     "ename": "Exception",
     "evalue": "Hi",
     "output_type": "error",
     "traceback": [
      "\u001b[1;31m---------------------------------------------------------------------------\u001b[0m",
      "\u001b[1;31mException\u001b[0m                                 Traceback (most recent call last)",
      "\u001b[1;32m<ipython-input-12-a4c6a826378c>\u001b[0m in \u001b[0;36m<module>\u001b[1;34m\u001b[0m\n\u001b[0;32m      1\u001b[0m \u001b[1;32mif\u001b[0m\u001b[1;33m(\u001b[0m\u001b[1;32mnot\u001b[0m \u001b[1;36m0\u001b[0m\u001b[1;33m)\u001b[0m\u001b[1;33m:\u001b[0m\u001b[1;33m\u001b[0m\u001b[1;33m\u001b[0m\u001b[0m\n\u001b[1;32m----> 2\u001b[1;33m     \u001b[1;32mraise\u001b[0m \u001b[0mException\u001b[0m\u001b[1;33m(\u001b[0m\u001b[1;34m\"Hi\"\u001b[0m\u001b[1;33m)\u001b[0m\u001b[1;33m\u001b[0m\u001b[1;33m\u001b[0m\u001b[0m\n\u001b[0m",
      "\u001b[1;31mException\u001b[0m: Hi"
     ]
    }
   ],
   "source": [
    "\n",
    "\n",
    "if(not 0):\n",
    "    raise Exception(\"Hi\")"
   ]
  },
  {
   "cell_type": "code",
   "execution_count": null,
   "id": "39fcbf66",
   "metadata": {},
   "outputs": [],
   "source": []
  }
 ],
 "metadata": {
  "kernelspec": {
   "display_name": "Python 3",
   "language": "python",
   "name": "python3"
  },
  "language_info": {
   "codemirror_mode": {
    "name": "ipython",
    "version": 3
   },
   "file_extension": ".py",
   "mimetype": "text/x-python",
   "name": "python",
   "nbconvert_exporter": "python",
   "pygments_lexer": "ipython3",
   "version": "3.8.8"
  }
 },
 "nbformat": 4,
 "nbformat_minor": 5
}

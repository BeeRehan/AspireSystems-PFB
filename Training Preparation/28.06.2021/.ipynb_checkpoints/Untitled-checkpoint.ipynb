{
 "cells": [
  {
   "cell_type": "markdown",
   "id": "5a811de1",
   "metadata": {},
   "source": [
    "# Python using as the caalculator  "
   ]
  },
  {
   "cell_type": "code",
   "execution_count": 4,
   "id": "07129877",
   "metadata": {},
   "outputs": [
    {
     "data": {
      "text/plain": [
       "3"
      ]
     },
     "execution_count": 4,
     "metadata": {},
     "output_type": "execute_result"
    }
   ],
   "source": [
    "1+2"
   ]
  },
  {
   "cell_type": "code",
   "execution_count": 6,
   "id": "c333c4c8",
   "metadata": {},
   "outputs": [
    {
     "data": {
      "text/plain": [
       "0.5"
      ]
     },
     "execution_count": 6,
     "metadata": {},
     "output_type": "execute_result"
    }
   ],
   "source": [
    "1/2  #Here the single forward slash return the whole value"
   ]
  },
  {
   "cell_type": "code",
   "execution_count": 7,
   "id": "51782733",
   "metadata": {},
   "outputs": [
    {
     "data": {
      "text/plain": [
       "0"
      ]
     },
     "execution_count": 7,
     "metadata": {},
     "output_type": "execute_result"
    }
   ],
   "source": [
    "1//2 #Here // usedto return the round value"
   ]
  },
  {
   "cell_type": "markdown",
   "id": "2e34cfbb",
   "metadata": {},
   "source": [
    "# Numbers"
   ]
  },
  {
   "cell_type": "markdown",
   "id": "14bb342a",
   "metadata": {},
   "source": [
    "# #In python there are three types of Numbers are available\n",
    "### 1) Int\n",
    "### 2) Float\n",
    "### 3) Complex"
   ]
  },
  {
   "cell_type": "code",
   "execution_count": 8,
   "id": "b6e689ae",
   "metadata": {},
   "outputs": [
    {
     "name": "stdout",
     "output_type": "stream",
     "text": [
      "<class 'int'>\n"
     ]
    }
   ],
   "source": [
    "#Int \n",
    "a = 1\n",
    "print(type(a))"
   ]
  },
  {
   "cell_type": "code",
   "execution_count": 10,
   "id": "5129d175",
   "metadata": {},
   "outputs": [
    {
     "name": "stdout",
     "output_type": "stream",
     "text": [
      "<class 'float'>\n"
     ]
    }
   ],
   "source": [
    "print(type(1.0))"
   ]
  },
  {
   "cell_type": "code",
   "execution_count": 13,
   "id": "cc15fe29",
   "metadata": {},
   "outputs": [
    {
     "name": "stdout",
     "output_type": "stream",
     "text": [
      "<class 'complex'>\n"
     ]
    }
   ],
   "source": [
    "print(type(1+2j))"
   ]
  },
  {
   "cell_type": "markdown",
   "id": "d3bfb376",
   "metadata": {},
   "source": [
    "# Strings"
   ]
  },
  {
   "cell_type": "markdown",
   "id": "f328af4c",
   "metadata": {},
   "source": [
    "In python string is a considered immutable data type.\n",
    "It can be declared within single or double quotes.\n",
    "We can also use trible qoute string for multiline string"
   ]
  },
  {
   "cell_type": "code",
   "execution_count": 15,
   "id": "65a2cdda",
   "metadata": {},
   "outputs": [],
   "source": [
    "a = \"Yasin\"\n",
    "b = 'Mohamed'\n",
    "c = '''\n",
    "    Mohamed Yasin M\n",
    "    Aspirian\n",
    "    '''"
   ]
  },
  {
   "cell_type": "code",
   "execution_count": 17,
   "id": "78861f6a",
   "metadata": {},
   "outputs": [
    {
     "name": "stdout",
     "output_type": "stream",
     "text": [
      "Yasin \n",
      " Mohamed \n",
      " \n",
      "    Mohamed Yasin M\n",
      "    Aspirian\n",
      "    \n"
     ]
    }
   ],
   "source": [
    "print(a,\"\\n\",b,\"\\n\",c)"
   ]
  },
  {
   "cell_type": "markdown",
   "id": "7ce10940",
   "metadata": {},
   "source": [
    "# List"
   ]
  },
  {
   "cell_type": "code",
   "execution_count": 23,
   "id": "dc244a0d",
   "metadata": {},
   "outputs": [
    {
     "name": "stdout",
     "output_type": "stream",
     "text": [
      "[0, 1, 2, 3, 4, 5, 6, 7, 8, 9]\n"
     ]
    }
   ],
   "source": [
    "a = [i for i in range(10)]\n",
    "print(a)"
   ]
  },
  {
   "cell_type": "markdown",
   "id": "43c77254",
   "metadata": {},
   "source": [
    "#### Both string and list are sequence type data type\n",
    "We can access it by index\n",
    "rather than other language like c, java python support negative operator \n",
    "\n",
    ">Here List mutable which we change the value by index\n",
    ">String is immutable because of constant pool we cant change the specific element if we want to make modification we need to create a new string"
   ]
  },
  {
   "cell_type": "code",
   "execution_count": 32,
   "id": "782c0aec",
   "metadata": {},
   "outputs": [
    {
     "name": "stdout",
     "output_type": "stream",
     "text": [
      "[0, 1, 2, 3] [0, 1, 2, 3, 4, 5, 6, 7, 8]\n"
     ]
    }
   ],
   "source": [
    "print(a[:4],a[:-1])"
   ]
  },
  {
   "cell_type": "code",
   "execution_count": 37,
   "id": "464bff52",
   "metadata": {},
   "outputs": [
    {
     "name": "stdout",
     "output_type": "stream",
     "text": [
      "\n"
     ]
    }
   ],
   "source": [
    "print(b[-1:-5])"
   ]
  },
  {
   "cell_type": "code",
   "execution_count": null,
   "id": "c2672dd9",
   "metadata": {},
   "outputs": [],
   "source": []
  }
 ],
 "metadata": {
  "kernelspec": {
   "display_name": "Python 3",
   "language": "python",
   "name": "python3"
  },
  "language_info": {
   "codemirror_mode": {
    "name": "ipython",
    "version": 3
   },
   "file_extension": ".py",
   "mimetype": "text/x-python",
   "name": "python",
   "nbconvert_exporter": "python",
   "pygments_lexer": "ipython3",
   "version": "3.8.8"
  }
 },
 "nbformat": 4,
 "nbformat_minor": 5
}

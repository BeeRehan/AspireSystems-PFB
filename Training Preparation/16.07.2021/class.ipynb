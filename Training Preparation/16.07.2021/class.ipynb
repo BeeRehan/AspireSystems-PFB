{
 "cells": [
  {
   "cell_type": "code",
   "execution_count": 4,
   "id": "34d5ad99",
   "metadata": {},
   "outputs": [
    {
     "name": "stdout",
     "output_type": "stream",
     "text": [
      "{1: 'Yasin', 2: 'Mohamed', 3: 'Aspirian'}\n",
      "{'yasin': [1, 2, 3], 'mohamed': [1, 2, 3], 'aspirian': [1, 2, 3]}\n"
     ]
    }
   ],
   "source": [
    "  \n",
    "d = dict((k,v) for k,v in ([(1,\"Yasin\"),(2,\"Mohamed\"),(3,\"Aspirian\")]))\n",
    "\n",
    "print(d)\n",
    "\n",
    "keys = [\"yasin\",\"mohamed\",\"aspirian\"]\n",
    "values = [1,2]\n",
    "\n",
    "\n",
    "\n",
    "a = dict.fromkeys(keys,values)\n",
    "values.append(3)\n",
    "\n",
    "print(a)"
   ]
  },
  {
   "cell_type": "code",
   "execution_count": 5,
   "id": "4e9a0634",
   "metadata": {},
   "outputs": [
    {
     "name": "stdout",
     "output_type": "stream",
     "text": [
      "[[1, 2], [3, 4]]\n"
     ]
    }
   ],
   "source": [
    "l = [[1,2],\n",
    "    [3,4]]\n",
    "print(l)\n",
    "\n"
   ]
  },
  {
   "cell_type": "code",
   "execution_count": 6,
   "id": "a00e6686",
   "metadata": {},
   "outputs": [
    {
     "name": "stdout",
     "output_type": "stream",
     "text": [
      "1\n",
      "2\n",
      "3\n",
      "4\n"
     ]
    }
   ],
   "source": [
    "for i in l:\n",
    "    for j in i:\n",
    "    \n",
    "        print(j)"
   ]
  },
  {
   "cell_type": "code",
   "execution_count": 15,
   "id": "4e569fb2",
   "metadata": {},
   "outputs": [
    {
     "ename": "NameError",
     "evalue": "name 'BanK' is not defined",
     "output_type": "error",
     "traceback": [
      "\u001b[1;31m---------------------------------------------------------------------------\u001b[0m",
      "\u001b[1;31mNameError\u001b[0m                                 Traceback (most recent call last)",
      "\u001b[1;32m<ipython-input-15-d5a013764d4d>\u001b[0m in \u001b[0;36m<module>\u001b[1;34m\u001b[0m\n\u001b[0;32m     36\u001b[0m                 \u001b[1;32mreturn\u001b[0m\u001b[1;33m(\u001b[0m\u001b[1;34mf\"The bank  name is {self.name} and the intrest rate is {self.tax}\"\u001b[0m\u001b[1;33m)\u001b[0m\u001b[1;33m\u001b[0m\u001b[1;33m\u001b[0m\u001b[0m\n\u001b[0;32m     37\u001b[0m \u001b[1;33m\u001b[0m\u001b[0m\n\u001b[1;32m---> 38\u001b[1;33m \u001b[1;32mclass\u001b[0m \u001b[0mCanara\u001b[0m\u001b[1;33m(\u001b[0m\u001b[0mIob\u001b[0m\u001b[1;33m,\u001b[0m\u001b[0mBanK\u001b[0m\u001b[1;33m)\u001b[0m\u001b[1;33m:\u001b[0m\u001b[1;33m\u001b[0m\u001b[1;33m\u001b[0m\u001b[0m\n\u001b[0m\u001b[0;32m     39\u001b[0m         \u001b[1;32mdef\u001b[0m \u001b[0m__init__\u001b[0m\u001b[1;33m(\u001b[0m\u001b[0mself\u001b[0m\u001b[1;33m,\u001b[0m\u001b[0mname\u001b[0m\u001b[1;33m,\u001b[0m\u001b[0mtax\u001b[0m\u001b[1;33m)\u001b[0m\u001b[1;33m:\u001b[0m\u001b[1;33m\u001b[0m\u001b[1;33m\u001b[0m\u001b[0m\n\u001b[0;32m     40\u001b[0m                 \u001b[0mself\u001b[0m\u001b[1;33m.\u001b[0m\u001b[0mname\u001b[0m \u001b[1;33m=\u001b[0m \u001b[0mname\u001b[0m\u001b[1;33m\u001b[0m\u001b[1;33m\u001b[0m\u001b[0m\n",
      "\u001b[1;31mNameError\u001b[0m: name 'BanK' is not defined"
     ]
    }
   ],
   "source": [
    "class Bank():\n",
    "\t\n",
    "\n",
    "\t__name = \"Reserve Bank of India\"\n",
    "\t__tax = \"the standard 2%\"\n",
    "\t\n",
    "\n",
    "\t#print(__name)\t\t\n",
    "\n",
    "\t\n",
    "\t\n",
    "\tdef __repr__(self):\n",
    "\t\treturn(f\"The bank  name is {self.__name} and the intrest rate is {self.__tax}\")\n",
    "\n",
    "\n",
    "#print(b.__name)\n",
    "\n",
    "\n",
    "class Iob(Bank):\n",
    "\n",
    "\tdef __init__(self,name,tax):\n",
    "\t\tself.name = name\n",
    "\t\tself.tax = tax\n",
    "\n",
    "\t\n",
    "\tdef __repr__(self):\n",
    "\t\treturn(f\"The bank  name is {self.name} and the intrest rate is {self.tax}\")\n",
    "\n",
    "class Sbi(Iob):\n",
    "\tdef __init__(self,name,tax):\n",
    "\t\tself.name = name\n",
    "\t\tself.tax = tax\n",
    "\n",
    "\t\n",
    "\tdef __repr__(self):\n",
    "\t\treturn(f\"The bank  name is {self.name} and the intrest rate is {self.tax}\")\n",
    "\n",
    "class Canara(Iob,BanK):\n",
    "\tdef __init__(self,name,tax):\n",
    "\t\tself.name = name\n",
    "\t\tself.tax = tax\n",
    "\n",
    "\t\n",
    "\tdef __repr__(self):\n",
    "\t\treturn(f\"The bank  name is {self.name} and the intrest rate is {self.tax}\")\n",
    "\n",
    "c = Canara(\"Canara\",\"4%\")\n",
    "\n",
    "print(repr(c))"
   ]
  },
  {
   "cell_type": "code",
   "execution_count": null,
   "id": "935de298",
   "metadata": {},
   "outputs": [],
   "source": []
  }
 ],
 "metadata": {
  "kernelspec": {
   "display_name": "Python 3",
   "language": "python",
   "name": "python3"
  },
  "language_info": {
   "codemirror_mode": {
    "name": "ipython",
    "version": 3
   },
   "file_extension": ".py",
   "mimetype": "text/x-python",
   "name": "python",
   "nbconvert_exporter": "python",
   "pygments_lexer": "ipython3",
   "version": "3.8.8"
  }
 },
 "nbformat": 4,
 "nbformat_minor": 5
}

{
 "cells": [
  {
   "cell_type": "code",
   "execution_count": 20,
   "id": "084a4e81",
   "metadata": {},
   "outputs": [],
   "source": [
    "students =[\n",
    " {\n",
    " \"name\": \"raj\",\n",
    " \"marks\": [50,20,30,52,90],\n",
    " \"medium\": \"english\",\n",
    " \"parents_details\": {\n",
    " \"parents_qualification\": \"educated\",\n",
    " \"father_name\": \"ramu\"\n",
    " }\n",
    " },\n",
    " {\n",
    " \"name\": \"regho\",\n",
    " \"marks\": [70,35,50,60,90],\n",
    " \"medium\": \"english\",\n",
    " \"parents_details\": {\n",
    " \"parents_qualification\": \"non-educated\",\n",
    " \"father_name\": \"ranjith\"\n",
    " }\n",
    " },\n",
    " {\n",
    " \"name\": \"ragu\",\n",
    " \"marks\": [50,50,35,50,100],\n",
    " \"medium\": \"tamil\",\n",
    " \"parents_details\": {\n",
    " \"parents_qualification\": \"non-educated\",\n",
    " \"father_name\": \"rajeev\"\n",
    " }\n",
    " },\n",
    " {\n",
    " \"name\": \"kumar\",\n",
    " \"marks\": [50,30,30,52,100],\n",
    " \"medium\": \"english\",\n",
    " \"parents_details\": {\n",
    " \"parents_qualification\": \"educated\",\n",
    " \"father_name\": \"rajesh\"\n",
    " }\n",
    " },\n",
    " {\n",
    " \"name\": \"sathesh\",\n",
    " \"marks\": [49,19,30,40,12],\n",
    " \"medium\": \"tamil\",\n",
    " \"parents_details\": {\n",
    " \"parents_qualification\": \"non-educated\",\n",
    " \"father_name\": \"ramu\"\n",
    " }\n",
    " },\n",
    " {\n",
    " \"name\": \"sundar\",\n",
    " \"marks\": [70,70,40,40,80],\n",
    " \"medium\": \"tamil\",\n",
    " \"parents_details\": {\n",
    " \"parents_qualification\": \"non-educated\",\n",
    " \"father_name\": \"remo\"\n",
    " }\n",
    " }\n",
    "]"
   ]
  },
  {
   "cell_type": "code",
   "execution_count": 21,
   "id": "cf78500b",
   "metadata": {},
   "outputs": [
    {
     "name": "stdout",
     "output_type": "stream",
     "text": [
      "[50, 20, 30, 52, 90]\n",
      "educated\n"
     ]
    }
   ],
   "source": [
    "print(students[0][\"marks\"])\n",
    "print(students[0][\"parents_details\"][\"parents_qualification\"])"
   ]
  },
  {
   "cell_type": "markdown",
   "id": "b02bd72c",
   "metadata": {},
   "source": [
    "# 1. filter the student whose average is grater than 40"
   ]
  },
  {
   "cell_type": "code",
   "execution_count": 22,
   "id": "453a7946",
   "metadata": {},
   "outputs": [
    {
     "name": "stdout",
     "output_type": "stream",
     "text": [
      "[48.4, 61.0, 57.0, 52.4, 30.0, 60.0]\n",
      "raj\n",
      "regho\n",
      "ragu\n",
      "kumar\n",
      "sundar\n"
     ]
    }
   ],
   "source": [
    "\n",
    "\n",
    "from functools import reduce\n",
    "\n",
    "# itr = iter(students)\n",
    "\n",
    "# print(next(itr)[\"marks\"])\n",
    "# print(next(itr))\n",
    "# print(next(itr))\n",
    "\n",
    "def findAvg(student):\n",
    "    l = len(student[\"marks\"])\n",
    "    return reduce(lambda x,a: x+a,student[\"marks\"])/l\n",
    "\n",
    "averages = []\n",
    "for student in students:\n",
    "    averages.append(findAvg(student))\n",
    "    \n",
    "\n",
    "\n",
    "print(averages)\n",
    "\n",
    "\n",
    "for ind,val in enumerate(averages):\n",
    "    if(val>40):\n",
    "        print(students[ind][\"name\"])"
   ]
  },
  {
   "cell_type": "markdown",
   "id": "18b14c67",
   "metadata": {},
   "source": [
    "# 2. filter the student who got pass mark in all the subjects (pass mark 30)"
   ]
  },
  {
   "cell_type": "code",
   "execution_count": 23,
   "id": "3835406e",
   "metadata": {},
   "outputs": [
    {
     "name": "stdout",
     "output_type": "stream",
     "text": [
      "regho\n",
      "ragu\n",
      "kumar\n",
      "sundar\n"
     ]
    }
   ],
   "source": [
    "def findPass(student):\n",
    "    return list(filter(lambda x:x>=30,student[\"marks\"]))\n",
    "\n",
    "\n",
    "passs = []\n",
    "for student in students:\n",
    "    passs.append(findPass(student))\n",
    "    \n",
    "#print(passs)\n",
    "\n",
    "passStudents = [ students[ind] for ind,val in enumerate(passs) if len(val)==5]\n",
    "\n",
    "for passStudent in passStudents:\n",
    "    print(passStudent[\"name\"])\n",
    "\n",
    "# for ind,val in enumerate(passs):\n",
    "#     if(len(val)==5):\n",
    "#         print(students[ind][\"name\"])"
   ]
  },
  {
   "cell_type": "markdown",
   "id": "00433a51",
   "metadata": {},
   "source": [
    "# 3. filter the student who got pass mark in all the subjects and whose parents are not-educated"
   ]
  },
  {
   "cell_type": "code",
   "execution_count": 24,
   "id": "649ea78e",
   "metadata": {},
   "outputs": [
    {
     "name": "stdout",
     "output_type": "stream",
     "text": [
      "['regho', 'ragu', 'sundar']\n"
     ]
    }
   ],
   "source": [
    "norEduParrent = list(filter(lambda x:  x[\"parents_details\"][\"parents_qualification\"]==\"non-educated\",passStudents))\n",
    "\n",
    "print([x[\"name\"] for x in norEduParrent])"
   ]
  },
  {
   "cell_type": "markdown",
   "id": "2abe33e3",
   "metadata": {},
   "source": [
    "# 4.Find the student who got top most mark irrespective of all the subject and whose parents are not educated"
   ]
  },
  {
   "cell_type": "code",
   "execution_count": 25,
   "id": "f8e587aa",
   "metadata": {},
   "outputs": [
    {
     "name": "stdout",
     "output_type": "stream",
     "text": [
      "[242, 305, 285, 262, 150, 300]\n",
      "305\n",
      "regho\n"
     ]
    }
   ],
   "source": [
    "from functools import reduce\n",
    "\n",
    "def findTot(student):\n",
    "    return reduce(lambda x,a: x+a,student[\"marks\"])\n",
    "\n",
    "def findByTotal(totals):\n",
    "\n",
    "    for i in range(0,len(totals)):\n",
    "        MAX = max(totals)\n",
    "        print(MAX)\n",
    "        ind = totals.index(MAX)\n",
    "\n",
    "        if(students[ind][\"parents_details\"][\"parents_qualification\"]==\"non-educated\"):\n",
    "            return(students[ind][\"name\"])\n",
    "        else:\n",
    "            totals[ind] = 0\n",
    "            print(totals)\n",
    "\n",
    "\n",
    "totals = []\n",
    "\n",
    "for student in students:\n",
    "    totals.append(findTot(student))\n",
    "    \n",
    "print(totals)\n",
    "\n",
    "print(findByTotal(totals))\n",
    "\n",
    "\n",
    "        \n",
    "    "
   ]
  },
  {
   "cell_type": "markdown",
   "id": "be815d7a",
   "metadata": {},
   "source": [
    "# 5.Find the student who got top most mark irrespective of all the subject in tamil medium"
   ]
  },
  {
   "cell_type": "code",
   "execution_count": 26,
   "id": "ac325fe0",
   "metadata": {},
   "outputs": [
    {
     "name": "stdout",
     "output_type": "stream",
     "text": [
      "[242, 0, 285, 262, 150, 300]\n",
      "sundar\n"
     ]
    }
   ],
   "source": [
    "def findByMedium(totals):\n",
    "     for i in range(0,len(totals)):\n",
    "        MAX = max(totals)\n",
    "        ind = totals.index(MAX)\n",
    "\n",
    "        if(students[ind][\"medium\"]==\"tamil\"):\n",
    "            return(students[ind][\"name\"])\n",
    "        else:\n",
    "            totals[ind] = 0\n",
    "            print(totals)\n",
    "\n",
    "print(findByMedium(totals))"
   ]
  },
  {
   "cell_type": "markdown",
   "id": "2df83e2a",
   "metadata": {},
   "source": [
    "# 7.Display sundar's 4th subject mark"
   ]
  },
  {
   "cell_type": "code",
   "execution_count": 27,
   "id": "d6282a90",
   "metadata": {},
   "outputs": [
    {
     "name": "stdout",
     "output_type": "stream",
     "text": [
      "Enter the Name and Subject no space separately sundar 4\n",
      "40\n"
     ]
    }
   ],
   "source": [
    "ipt = input(\"Enter the Name and Subject no space separately \")\n",
    "\n",
    "name,sub = ipt.split()\n",
    "\n",
    "for student in students:\n",
    "    if(student[\"name\"]==name):\n",
    "        print(student[\"marks\"][int(sub)-1])"
   ]
  },
  {
   "cell_type": "markdown",
   "id": "8d9b69cf",
   "metadata": {},
   "source": [
    "# 8.Display 2nd subject mark of the student whose father name is \"Rajeev\""
   ]
  },
  {
   "cell_type": "code",
   "execution_count": 29,
   "id": "6f5c567c",
   "metadata": {},
   "outputs": [
    {
     "name": "stdout",
     "output_type": "stream",
     "text": [
      "Enter the Father Name and Subject no space separately rajeev 2\n",
      "50\n"
     ]
    }
   ],
   "source": [
    "ipt = input(\"Enter the Father Name and Subject no space separately \")\n",
    "name,sub = ipt.split()\n",
    "\n",
    "for student in students:\n",
    "    if(student[\"parents_details\"][\"father_name\"]==name):\n",
    "        print(student[\"marks\"][int(sub)-1])"
   ]
  },
  {
   "cell_type": "markdown",
   "id": "8e01cdce",
   "metadata": {},
   "source": [
    "# 9.Display students name whose father names are same"
   ]
  },
  {
   "cell_type": "code",
   "execution_count": 30,
   "id": "b300587e",
   "metadata": {},
   "outputs": [
    {
     "name": "stdout",
     "output_type": "stream",
     "text": [
      "raj\n",
      "sathesh\n"
     ]
    }
   ],
   "source": [
    "for i in (0,len(students)-1):\n",
    "    for student in students:\n",
    "        if(students[i][\"parents_details\"][\"father_name\"]==student[\"parents_details\"][\"father_name\"] and i !=len(students)-1):\n",
    "            print(student[\"name\"])\n",
    "            "
   ]
  },
  {
   "cell_type": "markdown",
   "id": "ff6a7067",
   "metadata": {},
   "source": [
    "# 10.Display students name whose father name ends with h"
   ]
  },
  {
   "cell_type": "code",
   "execution_count": 31,
   "id": "d1f84199",
   "metadata": {},
   "outputs": [
    {
     "name": "stdout",
     "output_type": "stream",
     "text": [
      "regho\n",
      "kumar\n"
     ]
    }
   ],
   "source": [
    "for student in students:\n",
    "    if(student[\"parents_details\"][\"father_name\"][len(student[\"parents_details\"][\"father_name\"])-1]==\"h\"):\n",
    "        print(student[\"name\"])"
   ]
  },
  {
   "cell_type": "code",
   "execution_count": 32,
   "id": "55c3609c",
   "metadata": {},
   "outputs": [
    {
     "name": "stdout",
     "output_type": "stream",
     "text": [
      "regho\n",
      "kumar\n"
     ]
    }
   ],
   "source": [
    "import re\n",
    "\n",
    "for student in students:\n",
    "    if(re.search(\"h$\",student[\"parents_details\"][\"father_name\"])):\n",
    "        print(student[\"name\"])"
   ]
  },
  {
   "cell_type": "markdown",
   "id": "fb84ac25",
   "metadata": {},
   "source": [
    "# 11.Delete the student from the array who got less than 30 in the second subject"
   ]
  },
  {
   "cell_type": "code",
   "execution_count": 52,
   "id": "10eea6d3",
   "metadata": {},
   "outputs": [
    {
     "name": "stdout",
     "output_type": "stream",
     "text": [
      "{'name': 'regho', 'marks': [70, 35, 50, 60, 90], 'medium': 'english', 'parents_details': {'parents_qualification': 'non-educated', 'father_name': 'ranjith'}}\n",
      "{'name': 'ragu', 'marks': [50, 50, 35, 50, 100], 'medium': 'tamil', 'parents_details': {'parents_qualification': 'non-educated', 'father_name': 'rajeev'}}\n",
      "{'name': 'kumar', 'marks': [50, 30, 30, 52, 100], 'medium': 'english', 'parents_details': {'parents_qualification': 'educated', 'father_name': 'rajesh'}}\n",
      "{'name': 'sundar', 'marks': [70, 70, 40, 40, 80], 'medium': 'tamil', 'parents_details': {'parents_qualification': 'non-educated', 'father_name': 'remo'}}\n"
     ]
    }
   ],
   "source": [
    "for i in range (0,len(students)-1):\n",
    "    if(students[i][\"marks\"][1]<30):\n",
    "        students.remove(i)\n",
    "                \n",
    "            \n",
    "for student in students:\n",
    "    print(student)"
   ]
  },
  {
   "cell_type": "code",
   "execution_count": null,
   "id": "1c2557da",
   "metadata": {},
   "outputs": [],
   "source": []
  },
  {
   "cell_type": "code",
   "execution_count": null,
   "id": "15c82e23",
   "metadata": {},
   "outputs": [],
   "source": []
  },
  {
   "cell_type": "code",
   "execution_count": null,
   "id": "d6f91d2a",
   "metadata": {},
   "outputs": [],
   "source": []
  }
 ],
 "metadata": {
  "kernelspec": {
   "display_name": "Python 3",
   "language": "python",
   "name": "python3"
  },
  "language_info": {
   "codemirror_mode": {
    "name": "ipython",
    "version": 3
   },
   "file_extension": ".py",
   "mimetype": "text/x-python",
   "name": "python",
   "nbconvert_exporter": "python",
   "pygments_lexer": "ipython3",
   "version": "3.8.8"
  }
 },
 "nbformat": 4,
 "nbformat_minor": 5
}

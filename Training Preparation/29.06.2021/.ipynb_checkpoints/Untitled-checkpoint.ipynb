{
 "cells": [
  {
   "cell_type": "markdown",
   "id": "7d9c9f95",
   "metadata": {},
   "source": [
    "# Loops"
   ]
  },
  {
   "cell_type": "code",
   "execution_count": 1,
   "id": "78fc33a4",
   "metadata": {},
   "outputs": [
    {
     "name": "stdout",
     "output_type": "stream",
     "text": [
      "0\n",
      "1\n",
      "2\n",
      "3\n",
      "4\n",
      "5\n",
      "6\n",
      "7\n",
      "8\n",
      "9\n"
     ]
    }
   ],
   "source": [
    "#for loop\n",
    "for i in range(10):\n",
    "    print(i)"
   ]
  },
  {
   "cell_type": "code",
   "execution_count": 5,
   "id": "c657a3a6",
   "metadata": {},
   "outputs": [
    {
     "name": "stdout",
     "output_type": "stream",
     "text": [
      "[0, 1, 2, 3, 4, 5, 6, 7, 8, 9]\n",
      "0 2 4 6 8 "
     ]
    }
   ],
   "source": [
    "#like foreach\n",
    "\n",
    "l = [i for i in range(10)]# List Aggregation \n",
    "print(l)\n",
    "\n",
    "for i in l:\n",
    "    if(i%2==0):\n",
    "        print(i,end=\" \")"
   ]
  },
  {
   "cell_type": "code",
   "execution_count": 10,
   "id": "a60d23b8",
   "metadata": {},
   "outputs": [
    {
     "name": "stdout",
     "output_type": "stream",
     "text": [
      "index 0 value 0\n",
      "index 1 value 1\n",
      "index 2 value 2\n",
      "index 3 value 3\n",
      "index 4 value 4\n",
      "index 5 value 5\n",
      "index 6 value 6\n",
      "index 7 value 7\n",
      "index 8 value 8\n",
      "index 9 value 9\n"
     ]
    }
   ],
   "source": [
    "#enumurator\n",
    "for i,v in enumerate(l):\n",
    "    print(\"index %d value %d\"%(i,v))#Format strings"
   ]
  },
  {
   "cell_type": "markdown",
   "id": "be9d22b6",
   "metadata": {},
   "source": [
    "# Functions"
   ]
  },
  {
   "cell_type": "code",
   "execution_count": 12,
   "id": "22450a4c",
   "metadata": {},
   "outputs": [
    {
     "name": "stdout",
     "output_type": "stream",
     "text": [
      "Hi\n"
     ]
    }
   ],
   "source": [
    "#Without parameter\n",
    "def find():\n",
    "    print(\"Hi\")\n",
    "    \n",
    "find()"
   ]
  },
  {
   "cell_type": "code",
   "execution_count": 14,
   "id": "23e0bfc0",
   "metadata": {},
   "outputs": [
    {
     "name": "stdout",
     "output_type": "stream",
     "text": [
      "Hi\n",
      "<function find at 0x000001B81C7B7550>\n"
     ]
    }
   ],
   "source": [
    "#With parameter\n",
    "def find(key):\n",
    "    print(key)\n",
    "    \n",
    "find(\"Hi\")\n",
    "print(find)"
   ]
  },
  {
   "cell_type": "code",
   "execution_count": 16,
   "id": "4eab2026",
   "metadata": {},
   "outputs": [
    {
     "name": "stdout",
     "output_type": "stream",
     "text": [
      "Hi\n"
     ]
    }
   ],
   "source": [
    "#with Return\n",
    "def find():\n",
    "    return(\"Hi\")\n",
    "\n",
    "print(find())"
   ]
  },
  {
   "cell_type": "code",
   "execution_count": 19,
   "id": "607b804d",
   "metadata": {},
   "outputs": [],
   "source": [
    "#Pass #continue #break\n",
    "def find():\n",
    "    pass #Does Nothing\n",
    "find()"
   ]
  },
  {
   "cell_type": "code",
   "execution_count": 20,
   "id": "3f5221c5",
   "metadata": {},
   "outputs": [
    {
     "name": "stdout",
     "output_type": "stream",
     "text": [
      "2\n"
     ]
    }
   ],
   "source": [
    "#Continue\n",
    "\n",
    "for i in range(4):\n",
    "    if(i==2):\n",
    "        print(i)\n",
    "    else:\n",
    "        continue #To skip the process"
   ]
  },
  {
   "cell_type": "code",
   "execution_count": 26,
   "id": "fd29ae49",
   "metadata": {},
   "outputs": [
    {
     "name": "stdout",
     "output_type": "stream",
     "text": [
      "11\n",
      "Prime\n"
     ]
    }
   ],
   "source": [
    "n = int(input())\n",
    "flag = True\n",
    "for i in range(2,n//2+1):\n",
    "    if(n%i==0):\n",
    "        break #To break the flow\n",
    "else:   #else with for loop execute when  the loop execute successfuly\n",
    "    print(\"Prime\")"
   ]
  },
  {
   "cell_type": "markdown",
   "id": "082a6ead",
   "metadata": {},
   "source": [
    "# Arguements"
   ]
  },
  {
   "cell_type": "code",
   "execution_count": null,
   "id": "cd2936ac",
   "metadata": {},
   "outputs": [],
   "source": [
    "'''\n",
    "    >Default Arguement\n",
    "    >Positional Arguement\n",
    "    >Keyword Argument\n",
    "    >Arbitary Arguement\n",
    "\n",
    "'''\n"
   ]
  }
 ],
 "metadata": {
  "kernelspec": {
   "display_name": "Python 3",
   "language": "python",
   "name": "python3"
  },
  "language_info": {
   "codemirror_mode": {
    "name": "ipython",
    "version": 3
   },
   "file_extension": ".py",
   "mimetype": "text/x-python",
   "name": "python",
   "nbconvert_exporter": "python",
   "pygments_lexer": "ipython3",
   "version": "3.8.8"
  }
 },
 "nbformat": 4,
 "nbformat_minor": 5
}

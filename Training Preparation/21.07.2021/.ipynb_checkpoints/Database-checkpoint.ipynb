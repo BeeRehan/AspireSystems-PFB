{
 "cells": [
  {
   "cell_type": "code",
   "execution_count": 1,
   "id": "76876868",
   "metadata": {},
   "outputs": [],
   "source": [
    "import mysql.connector"
   ]
  },
  {
   "cell_type": "code",
   "execution_count": 2,
   "id": "3c31f7c0",
   "metadata": {},
   "outputs": [
    {
     "name": "stdout",
     "output_type": "stream",
     "text": [
      "<mysql.connector.connection.MySQLConnection object at 0x000001E676AEC730>\n"
     ]
    }
   ],
   "source": [
    "conn  = mysql.connector.connect(host='localhost',user=\"root\",password=\"water\")\n",
    "print(conn)"
   ]
  },
  {
   "cell_type": "code",
   "execution_count": 7,
   "id": "db47dc05",
   "metadata": {},
   "outputs": [
    {
     "name": "stdout",
     "output_type": "stream",
     "text": [
      "1007 (HY000): Can't create database 'mydb'; database exists\n"
     ]
    }
   ],
   "source": [
    "mc = conn.cursor(buffered=True)\n",
    "\n",
    "try:\n",
    "    mc.execute(\"CREATE DATABASE mydb\")\n",
    "except Exception as e:\n",
    "    print(e)\n"
   ]
  },
  {
   "cell_type": "code",
   "execution_count": 8,
   "id": "b26b0180",
   "metadata": {},
   "outputs": [
    {
     "name": "stdout",
     "output_type": "stream",
     "text": [
      "('aspire',)\n",
      "('information_schema',)\n",
      "('mydatabase',)\n",
      "('mydb',)\n",
      "('mysql',)\n",
      "('performance_schema',)\n",
      "('sakila',)\n",
      "('sys',)\n",
      "('world',)\n"
     ]
    }
   ],
   "source": [
    "mc.execute(\"SHOW DATABASES\")\n",
    "\n",
    "for i in mc:\n",
    "    print(i)\n",
    "    \n",
    "mc.execute(\"USE aspire\")"
   ]
  },
  {
   "cell_type": "code",
   "execution_count": 9,
   "id": "9a075854",
   "metadata": {},
   "outputs": [
    {
     "name": "stdout",
     "output_type": "stream",
     "text": [
      "('details',)\n"
     ]
    }
   ],
   "source": [
    "mc.execute(\"SHOW TABLES\")\n",
    "for i in mc:\n",
    "    print(i)"
   ]
  },
  {
   "cell_type": "code",
   "execution_count": 10,
   "id": "8072364e",
   "metadata": {},
   "outputs": [
    {
     "name": "stdout",
     "output_type": "stream",
     "text": [
      "(16, 'MGR', None)\n",
      "(23, 'Keerthana R', None)\n",
      "(27, 'MK', None)\n",
      "(31, 'Mohamed', None)\n",
      "(33, 'Nandhini', None)\n"
     ]
    }
   ],
   "source": [
    "mc.execute(\"SELECT * FROM details\")\n",
    "\n",
    "for i in mc.fetchall():\n",
    "    print(i)"
   ]
  },
  {
   "cell_type": "code",
   "execution_count": null,
   "id": "858445ef",
   "metadata": {},
   "outputs": [],
   "source": []
  },
  {
   "cell_type": "code",
   "execution_count": null,
   "id": "34c0dbc8",
   "metadata": {},
   "outputs": [],
   "source": []
  }
 ],
 "metadata": {
  "kernelspec": {
   "display_name": "Python 3",
   "language": "python",
   "name": "python3"
  },
  "language_info": {
   "codemirror_mode": {
    "name": "ipython",
    "version": 3
   },
   "file_extension": ".py",
   "mimetype": "text/x-python",
   "name": "python",
   "nbconvert_exporter": "python",
   "pygments_lexer": "ipython3",
   "version": "3.8.8"
  }
 },
 "nbformat": 4,
 "nbformat_minor": 5
}

{
 "cells": [
  {
   "cell_type": "code",
   "execution_count": 5,
   "id": "76876868",
   "metadata": {},
   "outputs": [],
   "source": [
    "import mysql.connector"
   ]
  },
  {
   "cell_type": "code",
   "execution_count": 26,
   "id": "3c31f7c0",
   "metadata": {},
   "outputs": [
    {
     "name": "stdout",
     "output_type": "stream",
     "text": [
      "<mysql.connector.connection.MySQLConnection object at 0x00000225A1136760>\n"
     ]
    }
   ],
   "source": [
    "conn  = mysql.connector.connect(host='localhost',user=\"root\",password=\"water\")\n",
    "print(connection)"
   ]
  },
  {
   "cell_type": "code",
   "execution_count": 29,
   "id": "db47dc05",
   "metadata": {},
   "outputs": [],
   "source": [
    "mc = conn.cursor(buffered=True)\n",
    "\n",
    "mc.execute(\"CREATE DATABASE mydb\")\n",
    "\n"
   ]
  },
  {
   "cell_type": "code",
   "execution_count": 36,
   "id": "1f26298b",
   "metadata": {},
   "outputs": [
    {
     "name": "stdout",
     "output_type": "stream",
     "text": [
      "('aspire',)\n",
      "('information_schema',)\n",
      "('mydatabase',)\n",
      "('mydb',)\n",
      "('mysql',)\n",
      "('performance_schema',)\n",
      "('sakila',)\n",
      "('sys',)\n",
      "('world',)\n"
     ]
    }
   ],
   "source": [
    "mc.execute(\"SHOW DATABASES\")\n",
    "\n",
    "for i in mc:\n",
    "    print(i)\n",
    "    \n",
    "mc.execute(\"USE aspire\")"
   ]
  },
  {
   "cell_type": "code",
   "execution_count": 39,
   "id": "c1e16456",
   "metadata": {},
   "outputs": [
    {
     "name": "stdout",
     "output_type": "stream",
     "text": [
      "('details',)\n"
     ]
    }
   ],
   "source": [
    "mc.execute(\"SHOW TABLES\")\n",
    "for i in mc:\n",
    "    print(i)"
   ]
  },
  {
   "cell_type": "code",
   "execution_count": 42,
   "id": "42c93c85",
   "metadata": {},
   "outputs": [
    {
     "name": "stdout",
     "output_type": "stream",
     "text": [
      "(16, 'MGR', None)\n",
      "(23, 'Keerthana R', None)\n",
      "(27, 'MK', None)\n",
      "(31, 'Mohamed', None)\n",
      "(33, 'Nandhini', None)\n"
     ]
    }
   ],
   "source": [
    "mc.execute(\"SELECT * FROM details\")\n",
    "\n",
    "for i in mc:\n",
    "    print(i)"
   ]
  },
  {
   "cell_type": "code",
   "execution_count": null,
   "id": "94a888da",
   "metadata": {},
   "outputs": [],
   "source": []
  }
 ],
 "metadata": {
  "kernelspec": {
   "display_name": "Python 3",
   "language": "python",
   "name": "python3"
  },
  "language_info": {
   "codemirror_mode": {
    "name": "ipython",
    "version": 3
   },
   "file_extension": ".py",
   "mimetype": "text/x-python",
   "name": "python",
   "nbconvert_exporter": "python",
   "pygments_lexer": "ipython3",
   "version": "3.8.8"
  }
 },
 "nbformat": 4,
 "nbformat_minor": 5
}

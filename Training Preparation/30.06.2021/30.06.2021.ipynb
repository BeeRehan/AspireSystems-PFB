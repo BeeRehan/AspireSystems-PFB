{
 "cells": [
  {
   "cell_type": "markdown",
   "id": "3fc86850",
   "metadata": {},
   "source": [
    "# Sys"
   ]
  },
  {
   "cell_type": "code",
   "execution_count": 2,
   "id": "95fbdbb9",
   "metadata": {},
   "outputs": [
    {
     "name": "stdout",
     "output_type": "stream",
     "text": [
      "3.8.8 (default, Apr 13 2021, 15:08:03) [MSC v.1916 64 bit (AMD64)]\n"
     ]
    }
   ],
   "source": [
    "import sys\n",
    "\n",
    "print(sys.version)"
   ]
  },
  {
   "cell_type": "code",
   "execution_count": 4,
   "id": "54385808",
   "metadata": {},
   "outputs": [
    {
     "name": "stdout",
     "output_type": "stream",
     "text": [
      "Hi"
     ]
    }
   ],
   "source": [
    "#standard output\n",
    "sys.stdout.write(\"Hi\")\n",
    "# sys.stdin.read()"
   ]
  },
  {
   "cell_type": "code",
   "execution_count": 10,
   "id": "be9fadc2",
   "metadata": {},
   "outputs": [
    {
     "name": "stdout",
     "output_type": "stream",
     "text": [
      "MD 21\n"
     ]
    }
   ],
   "source": [
    "#function Unpacking\n",
    "def find(name,age):\n",
    "    print(name,age)\n",
    "    \n",
    "details = {\"name\":\"MD\",\"age\":21}\n",
    "find(**details)"
   ]
  },
  {
   "cell_type": "code",
   "execution_count": 12,
   "id": "72c97449",
   "metadata": {},
   "outputs": [
    {
     "name": "stdout",
     "output_type": "stream",
     "text": [
      "BePossitive\n"
     ]
    }
   ],
   "source": [
    "#Lamda Function\n",
    "\n",
    "x = lambda a:a+\" Possitive\"\n",
    "    \n",
    "print(x(\"Be\"))"
   ]
  },
  {
   "cell_type": "code",
   "execution_count": 9,
   "id": "e1c80ca4",
   "metadata": {},
   "outputs": [
    {
     "ename": "TypeError",
     "evalue": "find() got some positional-only arguments passed as keyword arguments: 'a'",
     "output_type": "error",
     "traceback": [
      "\u001b[1;31m---------------------------------------------------------------------------\u001b[0m",
      "\u001b[1;31mTypeError\u001b[0m                                 Traceback (most recent call last)",
      "\u001b[1;32m<ipython-input-9-827d8472f89a>\u001b[0m in \u001b[0;36m<module>\u001b[1;34m\u001b[0m\n\u001b[0;32m      4\u001b[0m     \u001b[0mprint\u001b[0m\u001b[1;33m(\u001b[0m\u001b[0ma\u001b[0m\u001b[1;33m)\u001b[0m\u001b[1;33m\u001b[0m\u001b[1;33m\u001b[0m\u001b[0m\n\u001b[0;32m      5\u001b[0m \u001b[1;33m\u001b[0m\u001b[0m\n\u001b[1;32m----> 6\u001b[1;33m \u001b[0mfind\u001b[0m\u001b[1;33m(\u001b[0m\u001b[0ma\u001b[0m\u001b[1;33m=\u001b[0m\u001b[1;36m1\u001b[0m\u001b[1;33m)\u001b[0m\u001b[1;33m\u001b[0m\u001b[1;33m\u001b[0m\u001b[0m\n\u001b[0m",
      "\u001b[1;31mTypeError\u001b[0m: find() got some positional-only arguments passed as keyword arguments: 'a'"
     ]
    }
   ],
   "source": [
    "#Positional Only parameter\n",
    "\n",
    "def find(a,/):\n",
    "    print(a)\n",
    "\n",
    "find(a=1)"
   ]
  },
  {
   "cell_type": "code",
   "execution_count": 6,
   "id": "62833387",
   "metadata": {},
   "outputs": [
    {
     "name": "stdout",
     "output_type": "stream",
     "text": [
      "1\n"
     ]
    }
   ],
   "source": [
    "#Keyword only parameter\n",
    "def find(*,a):\n",
    "    print(a)\n",
    "\n",
    "find(a=1)"
   ]
  },
  {
   "cell_type": "markdown",
   "id": "a3ebd1c5",
   "metadata": {},
   "source": [
    "# Introduction to Datastructure\n",
    "There are two types datastructure are available in python.\n",
    "   \n",
    "    > Builtin\n",
    "    > User "
   ]
  },
  {
   "cell_type": "code",
   "execution_count": 18,
   "id": "34f26129",
   "metadata": {},
   "outputs": [],
   "source": [
    "#Built In\n",
    "# >List\n",
    "# >set"
   ]
  },
  {
   "cell_type": "code",
   "execution_count": 21,
   "id": "2c2285c9",
   "metadata": {},
   "outputs": [
    {
     "name": "stdout",
     "output_type": "stream",
     "text": [
      "[1, 2, 3, 4, 5, 5, 6, 6]\n"
     ]
    }
   ],
   "source": [
    "print(list(i for i in [1,2,3,4,5,5,6,6]))"
   ]
  },
  {
   "cell_type": "code",
   "execution_count": 23,
   "id": "d8ebb1f7",
   "metadata": {},
   "outputs": [
    {
     "name": "stdout",
     "output_type": "stream",
     "text": [
      "{1, 2, 3, 4, 5, 6}\n"
     ]
    }
   ],
   "source": [
    "print(set(list(i for i in [1,2,3,4,5,5,6,6])))"
   ]
  },
  {
   "cell_type": "code",
   "execution_count": null,
   "id": "539c20fb",
   "metadata": {},
   "outputs": [],
   "source": []
  }
 ],
 "metadata": {
  "kernelspec": {
   "display_name": "Python 3",
   "language": "python",
   "name": "python3"
  },
  "language_info": {
   "codemirror_mode": {
    "name": "ipython",
    "version": 3
   },
   "file_extension": ".py",
   "mimetype": "text/x-python",
   "name": "python",
   "nbconvert_exporter": "python",
   "pygments_lexer": "ipython3",
   "version": "3.8.8"
  }
 },
 "nbformat": 4,
 "nbformat_minor": 5
}

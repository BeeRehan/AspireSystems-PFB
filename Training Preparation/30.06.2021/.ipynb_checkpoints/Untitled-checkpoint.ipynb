{
 "cells": [
  {
   "cell_type": "markdown",
   "id": "0c01707a",
   "metadata": {},
   "source": [
    "# Sys"
   ]
  },
  {
   "cell_type": "code",
   "execution_count": 1,
   "id": "e3f15dbf",
   "metadata": {},
   "outputs": [
    {
     "name": "stdout",
     "output_type": "stream",
     "text": [
      "3.8.8 (default, Apr 13 2021, 15:08:03) [MSC v.1916 64 bit (AMD64)]\n"
     ]
    }
   ],
   "source": [
    "import sys\n",
    "\n",
    "print(sys.version)"
   ]
  },
  {
   "cell_type": "code",
   "execution_count": 2,
   "id": "e72e7c3a",
   "metadata": {},
   "outputs": [
    {
     "name": "stdout",
     "output_type": "stream",
     "text": [
      "Hi"
     ]
    }
   ],
   "source": [
    "#standard output\n",
    "sys.stdout.write(\"Hi\")"
   ]
  },
  {
   "cell_type": "code",
   "execution_count": 10,
   "id": "6ed1aee4",
   "metadata": {},
   "outputs": [
    {
     "name": "stdout",
     "output_type": "stream",
     "text": [
      "MD 21\n"
     ]
    }
   ],
   "source": [
    "#function Unpacking\n",
    "def find(name,age):\n",
    "    print(name,age)\n",
    "    \n",
    "details = {\"name\":\"MD\",\"age\":21}\n",
    "find(**details)"
   ]
  },
  {
   "cell_type": "code",
   "execution_count": 12,
   "id": "772c77dc",
   "metadata": {},
   "outputs": [
    {
     "name": "stdout",
     "output_type": "stream",
     "text": [
      "BePossitive\n"
     ]
    }
   ],
   "source": [
    "#Lamda Function\n",
    "\n",
    "x = lambda a:a+\" Possitive\"\n",
    "    \n",
    "print(x(\"Be\"))"
   ]
  },
  {
   "cell_type": "code",
   "execution_count": null,
   "id": "018fa42b",
   "metadata": {},
   "outputs": [],
   "source": []
  }
 ],
 "metadata": {
  "kernelspec": {
   "display_name": "Python 3",
   "language": "python",
   "name": "python3"
  },
  "language_info": {
   "codemirror_mode": {
    "name": "ipython",
    "version": 3
   },
   "file_extension": ".py",
   "mimetype": "text/x-python",
   "name": "python",
   "nbconvert_exporter": "python",
   "pygments_lexer": "ipython3",
   "version": "3.8.8"
  }
 },
 "nbformat": 4,
 "nbformat_minor": 5
}

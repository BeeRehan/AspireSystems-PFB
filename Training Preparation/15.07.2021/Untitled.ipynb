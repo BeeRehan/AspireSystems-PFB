{
 "cells": [
  {
   "cell_type": "code",
   "execution_count": 16,
   "id": "765ba7c9",
   "metadata": {},
   "outputs": [
    {
     "name": "stdout",
     "output_type": "stream",
     "text": [
      "---------------------------\n",
      "Mohamed Yaisn M\n",
      "---------------------------\n"
     ]
    }
   ],
   "source": [
    "def func(fun):\n",
    "    def greet():\n",
    "        print('---------------------------')\n",
    "        fun()\n",
    "        print('---------------------------')\n",
    "    #print(greet)\n",
    "    return greet\n",
    "\n",
    "@func\n",
    "def fun():\n",
    "    print(\"Mohamed Yaisn M\")\n",
    "\n",
    "\n",
    "\n",
    "# newFun = func(fun)\n",
    "# print(newFun)\n",
    "# newFun()\n",
    "\n",
    "fun()\n",
    "\n"
   ]
  },
  {
   "cell_type": "code",
   "execution_count": 17,
   "id": "63080b15",
   "metadata": {},
   "outputs": [],
   "source": []
  },
  {
   "cell_type": "code",
   "execution_count": null,
   "id": "5c627882",
   "metadata": {},
   "outputs": [],
   "source": []
  }
 ],
 "metadata": {
  "kernelspec": {
   "display_name": "Python 3",
   "language": "python",
   "name": "python3"
  },
  "language_info": {
   "codemirror_mode": {
    "name": "ipython",
    "version": 3
   },
   "file_extension": ".py",
   "mimetype": "text/x-python",
   "name": "python",
   "nbconvert_exporter": "python",
   "pygments_lexer": "ipython3",
   "version": "3.8.8"
  }
 },
 "nbformat": 4,
 "nbformat_minor": 5
}

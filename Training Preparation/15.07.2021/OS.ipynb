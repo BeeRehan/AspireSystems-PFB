{
 "cells": [
  {
   "cell_type": "code",
   "execution_count": 1,
   "id": "3a818b15",
   "metadata": {},
   "outputs": [],
   "source": [
    "import os"
   ]
  },
  {
   "cell_type": "code",
   "execution_count": 4,
   "id": "0048eabe",
   "metadata": {},
   "outputs": [
    {
     "name": "stdout",
     "output_type": "stream",
     "text": [
      "nt\n"
     ]
    }
   ],
   "source": [
    "#Provide name of the operating system module that it import \n",
    "print(os.name)"
   ]
  },
  {
   "cell_type": "code",
   "execution_count": 14,
   "id": "96034cac",
   "metadata": {},
   "outputs": [
    {
     "name": "stdout",
     "output_type": "stream",
     "text": [
      "<class 'OSError'>\n",
      "[WinError 2] The system cannot find the file specified: 'MD'\n"
     ]
    }
   ],
   "source": [
    "#To create directory\n",
    "\n",
    "#os.mkdir(\"MD\")\n",
    "\n",
    "#To get current working directory\n",
    "os.getcwd()\n",
    "\n",
    "#To change directory\n",
    "os.chdir(\"..\")\n",
    "os.getcwd()\n",
    "\n",
    "#To remove dir\n",
    "\n",
    "\n",
    "try:\n",
    "    os.rmdir(\"MD\")\n",
    "except Exception as e:\n",
    "    print(os.error)\n",
    "    print(e)"
   ]
  },
  {
   "cell_type": "code",
   "execution_count": null,
   "id": "0c0c4468",
   "metadata": {},
   "outputs": [],
   "source": [
    "#To access the command prompt \n",
    "os.s"
   ]
  }
 ],
 "metadata": {
  "kernelspec": {
   "display_name": "Python 3",
   "language": "python",
   "name": "python3"
  },
  "language_info": {
   "codemirror_mode": {
    "name": "ipython",
    "version": 3
   },
   "file_extension": ".py",
   "mimetype": "text/x-python",
   "name": "python",
   "nbconvert_exporter": "python",
   "pygments_lexer": "ipython3",
   "version": "3.8.8"
  }
 },
 "nbformat": 4,
 "nbformat_minor": 5
}

{
 "cells": [
  {
   "cell_type": "markdown",
   "id": "61c2d0b5",
   "metadata": {},
   "source": [
    "# Loops"
   ]
  },
  {
   "cell_type": "code",
   "execution_count": 5,
   "id": "18369b3b",
   "metadata": {},
   "outputs": [
    {
     "name": "stdout",
     "output_type": "stream",
     "text": [
      "11\n",
      "10\n",
      "9\n",
      "8\n",
      "7\n",
      "6\n",
      "5\n",
      "4\n",
      "3\n",
      "2\n",
      "1\n"
     ]
    }
   ],
   "source": [
    "#for loop\n",
    "for i in range(11,0,-1):\n",
    "    print(i)"
   ]
  },
  {
   "cell_type": "code",
   "execution_count": 5,
   "id": "576e2b24",
   "metadata": {},
   "outputs": [
    {
     "name": "stdout",
     "output_type": "stream",
     "text": [
      "[0, 1, 2, 3, 4, 5, 6, 7, 8, 9]\n",
      "0 2 4 6 8 "
     ]
    }
   ],
   "source": [
    "#like foreach\n",
    "\n",
    "l = [i for i in range(10)]# List Aggregation \n",
    "print(l)\n",
    "\n",
    "for i in l:\n",
    "    if(i%2==0):\n",
    "        print(i,end=\" \")"
   ]
  },
  {
   "cell_type": "code",
   "execution_count": 10,
   "id": "f5ecb35c",
   "metadata": {},
   "outputs": [
    {
     "name": "stdout",
     "output_type": "stream",
     "text": [
      "index 0 value 0\n",
      "index 1 value 1\n",
      "index 2 value 2\n",
      "index 3 value 3\n",
      "index 4 value 4\n",
      "index 5 value 5\n",
      "index 6 value 6\n",
      "index 7 value 7\n",
      "index 8 value 8\n",
      "index 9 value 9\n"
     ]
    }
   ],
   "source": [
    "#enumurator\n",
    "for i,v in enumerate(l):\n",
    "    print(\"index %d value %d\"%(i,v))#Format strings"
   ]
  },
  {
   "cell_type": "markdown",
   "id": "c6cc12cc",
   "metadata": {},
   "source": [
    "# Functions"
   ]
  },
  {
   "cell_type": "code",
   "execution_count": 12,
   "id": "72f7d964",
   "metadata": {},
   "outputs": [
    {
     "name": "stdout",
     "output_type": "stream",
     "text": [
      "Hi\n"
     ]
    }
   ],
   "source": [
    "#Without parameter\n",
    "def find():\n",
    "    print(\"Hi\")\n",
    "    \n",
    "find()"
   ]
  },
  {
   "cell_type": "code",
   "execution_count": 14,
   "id": "c173b0fd",
   "metadata": {},
   "outputs": [
    {
     "name": "stdout",
     "output_type": "stream",
     "text": [
      "Hi\n",
      "<function find at 0x000001B81C7B7550>\n"
     ]
    }
   ],
   "source": [
    "#With parameter\n",
    "def find(key):\n",
    "    print(key)\n",
    "    \n",
    "find(\"Hi\")\n",
    "print(find)"
   ]
  },
  {
   "cell_type": "code",
   "execution_count": 16,
   "id": "64134afa",
   "metadata": {},
   "outputs": [
    {
     "name": "stdout",
     "output_type": "stream",
     "text": [
      "Hi\n"
     ]
    }
   ],
   "source": [
    "#with Return\n",
    "def find():\n",
    "    return(\"Hi\")\n",
    "\n",
    "print(find())"
   ]
  },
  {
   "cell_type": "code",
   "execution_count": 19,
   "id": "1205bce2",
   "metadata": {},
   "outputs": [],
   "source": [
    "#Pass #continue #break\n",
    "def find():\n",
    "    pass #Does Nothing\n",
    "find()"
   ]
  },
  {
   "cell_type": "code",
   "execution_count": 20,
   "id": "00de967b",
   "metadata": {},
   "outputs": [
    {
     "name": "stdout",
     "output_type": "stream",
     "text": [
      "2\n"
     ]
    }
   ],
   "source": [
    "#Continue\n",
    "\n",
    "for i in range(4):\n",
    "    if(i==2):\n",
    "        print(i)\n",
    "    else:\n",
    "        continue #To skip the process"
   ]
  },
  {
   "cell_type": "code",
   "execution_count": 26,
   "id": "fb4ced30",
   "metadata": {},
   "outputs": [
    {
     "name": "stdout",
     "output_type": "stream",
     "text": [
      "11\n",
      "Prime\n"
     ]
    }
   ],
   "source": [
    "n = int(input())\n",
    "flag = True\n",
    "for i in range(2,n//2+1):\n",
    "    if(n%i==0):\n",
    "        break #To break the flow\n",
    "else:   #else with for loop execute when  the loop execute successfuly\n",
    "    print(\"Prime\")"
   ]
  },
  {
   "cell_type": "markdown",
   "id": "53824b4e",
   "metadata": {},
   "source": [
    "# Arguements\n",
    "    >Default Arguement\n",
    "    >Positional Arguement\n",
    "    >Keyword Argument\n",
    "    >Arbitary Arguement"
   ]
  },
  {
   "cell_type": "markdown",
   "id": "f287936b",
   "metadata": {},
   "source": []
  },
  {
   "cell_type": "code",
   "execution_count": 32,
   "id": "19804d3e",
   "metadata": {},
   "outputs": [
    {
     "name": "stdout",
     "output_type": "stream",
     "text": [
      "11\n"
     ]
    }
   ],
   "source": [
    "#Default Arguement\n",
    "def find(a,b=10):\n",
    "    return(a+b)\n",
    "    \n",
    "print(find(1))"
   ]
  },
  {
   "cell_type": "code",
   "execution_count": 34,
   "id": "efc3e2e4",
   "metadata": {},
   "outputs": [
    {
     "name": "stdout",
     "output_type": "stream",
     "text": [
      "3\n"
     ]
    }
   ],
   "source": [
    "#Positional Arguement The position of the argument is import to assign the values\n",
    "\n",
    "a,b = 1,2\n",
    "def find(a,b):\n",
    "    return(a+b)\n",
    "    \n",
    "print(find(b,a))#Here the Values are interchanged"
   ]
  },
  {
   "cell_type": "code",
   "execution_count": 37,
   "id": "bb71b2f0",
   "metadata": {},
   "outputs": [
    {
     "name": "stdout",
     "output_type": "stream",
     "text": [
      "b: 11\n",
      "21\n",
      "{'b': 11, 'a': 10}\n"
     ]
    }
   ],
   "source": [
    "#Keyword Arguement\n",
    "def find(a,b=10):\n",
    "    print(\"b:\",b)\n",
    "    return(a+b)\n",
    "    \n",
    "print(find(b=11,a=10))\n",
    "\n",
    "\n",
    "#Examble for **kargs\n",
    "def find(**l):\n",
    "    return(l)\n",
    "print(find(b=11,a=10))#worked like as dictionary\n"
   ]
  },
  {
   "cell_type": "code",
   "execution_count": 38,
   "id": "22a02a70",
   "metadata": {},
   "outputs": [
    {
     "name": "stdout",
     "output_type": "stream",
     "text": [
      "16\n"
     ]
    }
   ],
   "source": [
    "#Arbitary Arguement\n",
    "\n",
    "def find(*l):\n",
    "    return(sum(l))\n",
    "print(find(11,2,3,))"
   ]
  },
  {
   "cell_type": "code",
   "execution_count": null,
   "id": "15915e73",
   "metadata": {},
   "outputs": [],
   "source": []
  }
 ],
 "metadata": {
  "kernelspec": {
   "display_name": "Python 3",
   "language": "python",
   "name": "python3"
  },
  "language_info": {
   "codemirror_mode": {
    "name": "ipython",
    "version": 3
   },
   "file_extension": ".py",
   "mimetype": "text/x-python",
   "name": "python",
   "nbconvert_exporter": "python",
   "pygments_lexer": "ipython3",
   "version": "3.8.8"
  }
 },
 "nbformat": 4,
 "nbformat_minor": 5
}

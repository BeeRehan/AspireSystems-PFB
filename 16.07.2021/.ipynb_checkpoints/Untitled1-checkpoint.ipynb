{
 "cells": [
  {
   "cell_type": "markdown",
   "id": "5d9ea026",
   "metadata": {},
   "source": [
    "# 1.MAP"
   ]
  },
  {
   "cell_type": "code",
   "execution_count": 2,
   "id": "f30f2841",
   "metadata": {},
   "outputs": [
    {
     "name": "stdout",
     "output_type": "stream",
     "text": [
      "[2, 4, 6, 8]\n"
     ]
    }
   ],
   "source": [
    "def find(x,n=2):\n",
    "    return(x*n)\n",
    "\n",
    "li = [i for i in range(1,5)]\n",
    "\n",
    "l = list(map(find,li))\n",
    "\n",
    "print(l)"
   ]
  },
  {
   "cell_type": "markdown",
   "id": "68598144",
   "metadata": {},
   "source": [
    "# 2.Reduce"
   ]
  },
  {
   "cell_type": "code",
   "execution_count": 5,
   "id": "c5b49820",
   "metadata": {},
   "outputs": [
    {
     "name": "stdout",
     "output_type": "stream",
     "text": [
      "[2, 4]\n"
     ]
    }
   ],
   "source": [
    "def find(x):\n",
    "    if(x%2==0):\n",
    "        return True\n",
    "    else:\n",
    "        return False\n",
    "    \n",
    "\n",
    "l = list(filter(find,li))\n",
    "print(l)"
   ]
  },
  {
   "cell_type": "markdown",
   "id": "813c3025",
   "metadata": {},
   "source": [
    "# 3.Filter"
   ]
  },
  {
   "cell_type": "code",
   "execution_count": 8,
   "id": "c3b49379",
   "metadata": {},
   "outputs": [
    {
     "name": "stdout",
     "output_type": "stream",
     "text": [
      "10\n"
     ]
    }
   ],
   "source": [
    "from functools import reduce #only usable when it is imported\n",
    "\n",
    "def find(x,a):\n",
    "    return(x+a)\n",
    "\n",
    "l = reduce(find,li)\n",
    "print(l)"
   ]
  },
  {
   "cell_type": "code",
   "execution_count": null,
   "id": "4feb32ee",
   "metadata": {},
   "outputs": [],
   "source": []
  }
 ],
 "metadata": {
  "kernelspec": {
   "display_name": "Python 3",
   "language": "python",
   "name": "python3"
  },
  "language_info": {
   "codemirror_mode": {
    "name": "ipython",
    "version": 3
   },
   "file_extension": ".py",
   "mimetype": "text/x-python",
   "name": "python",
   "nbconvert_exporter": "python",
   "pygments_lexer": "ipython3",
   "version": "3.8.8"
  }
 },
 "nbformat": 4,
 "nbformat_minor": 5
}

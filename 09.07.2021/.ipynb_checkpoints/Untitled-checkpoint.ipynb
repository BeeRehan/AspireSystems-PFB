{
 "cells": [
  {
   "cell_type": "markdown",
   "id": "e63c9968",
   "metadata": {},
   "source": [
    "# Format Strings"
   ]
  },
  {
   "cell_type": "code",
   "execution_count": 6,
   "id": "e671d52b",
   "metadata": {},
   "outputs": [
    {
     "name": "stdout",
     "output_type": "stream",
     "text": [
      "Enter your Name: MD\n",
      "Hi it's MD\n"
     ]
    }
   ],
   "source": [
    "print(f\"Hi it's {input('Enter your Name: ')}\")"
   ]
  },
  {
   "cell_type": "code",
   "execution_count": 7,
   "id": "bcf6f3fb",
   "metadata": {},
   "outputs": [
    {
     "name": "stdout",
     "output_type": "stream",
     "text": [
      "Enter Your Nmae: MD\n",
      "Hi it'sMD\n"
     ]
    }
   ],
   "source": [
    "#using format()\n",
    "\n",
    "print(\"Hi it's{0}\".format(input(\"Enter Your Nmae: \")))"
   ]
  },
  {
   "cell_type": "code",
   "execution_count": 14,
   "id": "061ef4a5",
   "metadata": {},
   "outputs": [
    {
     "data": {
      "text/plain": [
       "{'name': 'Yasin', 'age': 22, 'Occupation': 'SE'}"
      ]
     },
     "execution_count": 14,
     "metadata": {},
     "output_type": "execute_result"
    }
   ],
   "source": [
    "dic = dict([(\"name\",\"Yasin\"),(\"age\",22),(\"Occupation\",\"SE\")])\n",
    "dic"
   ]
  },
  {
   "cell_type": "code",
   "execution_count": 34,
   "id": "55cdaf4f",
   "metadata": {},
   "outputs": [
    {
     "name": "stdout",
     "output_type": "stream",
     "text": [
      "Hi it's Yasin\n"
     ]
    }
   ],
   "source": [
    "print(\"Hi it's {0[name]}\".format(dic))"
   ]
  },
  {
   "cell_type": "code",
   "execution_count": 36,
   "id": "5bd88a8d",
   "metadata": {},
   "outputs": [
    {
     "name": "stdout",
     "output_type": "stream",
     "text": [
      "Hi it's Yaisn\n"
     ]
    }
   ],
   "source": [
    "#Old string formating (COntrol String)\n",
    "\n",
    "print(\"Hi it's %s\"%(\"Yaisn\"))"
   ]
  },
  {
   "cell_type": "markdown",
   "id": "2265132b",
   "metadata": {},
   "source": [
    "# File Operation"
   ]
  },
  {
   "cell_type": "code",
   "execution_count": 61,
   "id": "f52f0aa2",
   "metadata": {},
   "outputs": [],
   "source": [
    "f = open(\"md.txt\",\"w+\")\n",
    "f.write(\"Mohamed Yasin M\")\n",
    "f.close()"
   ]
  },
  {
   "cell_type": "code",
   "execution_count": 111,
   "id": "3d7afa4a",
   "metadata": {},
   "outputs": [],
   "source": [
    "f = open(\"md.txt\",\"r+\")\n",
    "# f.readline()\n",
    "# f.read()"
   ]
  },
  {
   "cell_type": "code",
   "execution_count": 68,
   "id": "d4694f6a",
   "metadata": {},
   "outputs": [],
   "source": [
    "f.close()"
   ]
  },
  {
   "cell_type": "code",
   "execution_count": 112,
   "id": "bd34252f",
   "metadata": {},
   "outputs": [
    {
     "name": "stdout",
     "output_type": "stream",
     "text": [
      "{\"Name\": \"Yasin\"}\n"
     ]
    }
   ],
   "source": [
    "for line in f:\n",
    "    print(line)"
   ]
  },
  {
   "cell_type": "code",
   "execution_count": 74,
   "id": "f4ec7a82",
   "metadata": {},
   "outputs": [
    {
     "data": {
      "text/plain": [
       "15"
      ]
     },
     "execution_count": 74,
     "metadata": {},
     "output_type": "execute_result"
    }
   ],
   "source": [
    "f.tell()"
   ]
  },
  {
   "cell_type": "code",
   "execution_count": 90,
   "id": "21514ce5",
   "metadata": {},
   "outputs": [
    {
     "data": {
      "text/plain": [
       "False"
      ]
     },
     "execution_count": 90,
     "metadata": {},
     "output_type": "execute_result"
    }
   ],
   "source": [
    "f.seek(2)\n",
    "f.tell()\n",
    "f.closed"
   ]
  },
  {
   "cell_type": "code",
   "execution_count": 91,
   "id": "8afddf03",
   "metadata": {},
   "outputs": [
    {
     "data": {
      "text/plain": [
       "True"
      ]
     },
     "execution_count": 91,
     "metadata": {},
     "output_type": "execute_result"
    }
   ],
   "source": [
    "f.read()\n",
    "f.close()\n",
    "f.closed"
   ]
  },
  {
   "cell_type": "code",
   "execution_count": 118,
   "id": "5f1b2fc1",
   "metadata": {},
   "outputs": [
    {
     "name": "stdout",
     "output_type": "stream",
     "text": [
      "\u0000\u0000\u0000\u0000\u0000\u0000\u0000\u0000\u0000\u0000\u0000\u0000\u0000\u0000\u0000\u0000\"\\n Mohamed Yasin M\"\n",
      "36\n"
     ]
    }
   ],
   "source": [
    "#with ----> We don need to close the file everytime;\n",
    "with open(\"md.txt\") as f:\n",
    "    a = f.read()\n",
    "    print(a)\n",
    "    print(f.tell())"
   ]
  },
  {
   "cell_type": "code",
   "execution_count": 104,
   "id": "b53a72fc",
   "metadata": {},
   "outputs": [
    {
     "data": {
      "text/plain": [
       "True"
      ]
     },
     "execution_count": 104,
     "metadata": {},
     "output_type": "execute_result"
    }
   ],
   "source": [
    "f.closed"
   ]
  },
  {
   "cell_type": "code",
   "execution_count": 126,
   "id": "f6053203",
   "metadata": {},
   "outputs": [],
   "source": [
    "#Saving the file\n",
    "import json\n",
    "\n",
    "f = open(\"md.txt\",\"w+\")\n",
    "json.dump(\"Mohamed Yasin M\",f)\n",
    "f.close()"
   ]
  },
  {
   "cell_type": "code",
   "execution_count": 128,
   "id": "ba92c3f9",
   "metadata": {},
   "outputs": [
    {
     "name": "stdout",
     "output_type": "stream",
     "text": [
      "Mohamed Yasin M\n"
     ]
    }
   ],
   "source": [
    "#To read\n",
    "f = open(\"md.txt\",\"r\")\n",
    "\n",
    "print(json.load(f))"
   ]
  },
  {
   "cell_type": "code",
   "execution_count": null,
   "id": "7b48e505",
   "metadata": {},
   "outputs": [],
   "source": []
  }
 ],
 "metadata": {
  "kernelspec": {
   "display_name": "Python 3",
   "language": "python",
   "name": "python3"
  },
  "language_info": {
   "codemirror_mode": {
    "name": "ipython",
    "version": 3
   },
   "file_extension": ".py",
   "mimetype": "text/x-python",
   "name": "python",
   "nbconvert_exporter": "python",
   "pygments_lexer": "ipython3",
   "version": "3.8.8"
  }
 },
 "nbformat": 4,
 "nbformat_minor": 5
}
